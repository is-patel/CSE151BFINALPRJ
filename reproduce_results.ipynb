{
 "cells": [
  {
   "cell_type": "code",
   "execution_count": 2,
   "id": "39281e9d",
   "metadata": {},
   "outputs": [],
   "source": [
    "import numpy as np\n",
    "import pandas as pd\n",
    "from datetime import datetime\n",
    "\n",
    "import pickle"
   ]
  },
  {
   "cell_type": "code",
   "execution_count": 3,
   "id": "61d30086",
   "metadata": {},
   "outputs": [],
   "source": [
    "with open('finalknnmodel.pkl', 'rb') as f:\n",
    "    model = pickle.load(f)"
   ]
  },
  {
   "cell_type": "code",
   "execution_count": 4,
   "id": "0e581c09",
   "metadata": {},
   "outputs": [],
   "source": [
    "public_test = pd.read_csv(\"data/test_public.csv\")\n",
    "data = pd.read_csv(\"data/train.csv\")"
   ]
  },
  {
   "cell_type": "code",
   "execution_count": 5,
   "id": "135d978b",
   "metadata": {},
   "outputs": [
    {
     "name": "stderr",
     "output_type": "stream",
     "text": [
      "C:\\Users\\ishpa\\AppData\\Local\\Programs\\Python\\Python39\\lib\\site-packages\\pandas\\core\\frame.py:3641: SettingWithCopyWarning: \n",
      "A value is trying to be set on a copy of a slice from a DataFrame.\n",
      "Try using .loc[row_indexer,col_indexer] = value instead\n",
      "\n",
      "See the caveats in the documentation: https://pandas.pydata.org/pandas-docs/stable/user_guide/indexing.html#returning-a-view-versus-a-copy\n",
      "  self[k1] = value[k2]\n"
     ]
    }
   ],
   "source": [
    "training = data[~data['MISSING_DATA']]\n",
    "\n",
    "# adding date time, modified from given feature engineering notebook\n",
    "getdate = lambda x : [tuple([i.year, i.month, i.day, i.hour, i.weekday()]) for i in [datetime.fromtimestamp(x[\"TIMESTAMP\"])]][0]\n",
    "\n",
    "training[[\"YR\", \"MON\", \"DAY\", \"HR\", \"WK\"]] = training[[\"TIMESTAMP\"]].apply(getdate, axis=1, result_type=\"expand\")\n",
    "training = training.drop(columns = ['TIMESTAMP'])\n",
    "\n",
    "public_test[[\"YR\", \"MON\", \"DAY\", \"HR\", \"WK\"]] = public_test[[\"TIMESTAMP\"]].apply(getdate, axis=1, result_type=\"expand\")\n",
    "public_test = public_test.drop(columns = ['TIMESTAMP'])\n",
    "\n",
    "# adding trip time, using the given 15 second formula on polyline\n",
    "training['TRIP_TIME'] = training['POLYLINE'].apply(lambda x : max(x.count(\".\")/2-1,0)*15)\n",
    "training = training.drop(columns = ['POLYLINE'])"
   ]
  },
  {
   "cell_type": "code",
   "execution_count": 6,
   "id": "17d4f8df",
   "metadata": {},
   "outputs": [],
   "source": [
    "days = [(8,14),(9,30),(10,6),(10,31),(12,21)]\n",
    "\n",
    "narrows = [training[(training['MON'] == i[0])&(training['DAY']==i[1])].drop(columns = ['MON','DAY']).assign(date=j) for j,i in enumerate(days)]\n",
    "tnarrows = [public_test[(public_test['MON'] == i[0])&(public_test['DAY']==i[1])].drop(columns = ['MON','DAY']).assign(date=j) for j,i in enumerate(days)]\n",
    "\n",
    "narrowed = pd.concat(narrows)\n",
    "tnarrowed = pd.concat(tnarrows)"
   ]
  },
  {
   "cell_type": "code",
   "execution_count": 7,
   "id": "6955ffec",
   "metadata": {},
   "outputs": [],
   "source": [
    "def knntrans(data, test=pd.DataFrame(), w = [3,0,0,1,0]):\n",
    "    data = pd.concat([data,test])\n",
    "    data = data.drop(columns = ['TRIP_ID','DAY_TYPE','MISSING_DATA','YR'])\n",
    "    ones = pd.get_dummies(data['CALL_TYPE'])*w[0]\n",
    "    ones = ones.join(pd.get_dummies(data['ORIGIN_STAND'])*w[1])\n",
    "    ones = ones.join(pd.get_dummies(data['TAXI_ID'])*w[2])\n",
    "    ones = ones.join(pd.get_dummies(((pd.get_dummies(data['HR'])*w[3])).rename(columns = {i:f'h{i}' for i in range(24)})))\n",
    "    ones = ones.join((pd.get_dummies(data['date'])*w[4]).rename(columns = {i:f'date{i}' for i in range(5)}))\n",
    "    return ones.iloc[:-test.shape[0],:],ones.iloc[-test.shape[0]:,:]#.to_numpy()"
   ]
  },
  {
   "cell_type": "code",
   "execution_count": 8,
   "id": "0c01a971",
   "metadata": {},
   "outputs": [],
   "source": [
    "pkt,pkpublic_test = knntrans(narrowed,tnarrowed)"
   ]
  },
  {
   "cell_type": "code",
   "execution_count": 9,
   "id": "c98903f9",
   "metadata": {},
   "outputs": [],
   "source": [
    "preds = model.predict(pkpublic_test)"
   ]
  },
  {
   "cell_type": "code",
   "execution_count": 10,
   "id": "2a768f73",
   "metadata": {
    "scrolled": true
   },
   "outputs": [
    {
     "name": "stderr",
     "output_type": "stream",
     "text": [
      "C:\\Users\\ishpa\\AppData\\Local\\Temp\\ipykernel_19444\\3982142290.py:3: SettingWithCopyWarning: \n",
      "A value is trying to be set on a copy of a slice from a DataFrame.\n",
      "Try using .loc[row_indexer,col_indexer] = value instead\n",
      "\n",
      "See the caveats in the documentation: https://pandas.pydata.org/pandas-docs/stable/user_guide/indexing.html#returning-a-view-versus-a-copy\n",
      "  no_125['TRAVEL_TIME'] = preds\n",
      "C:\\Users\\ishpa\\AppData\\Local\\Temp\\ipykernel_19444\\3982142290.py:6: SettingWithCopyWarning: \n",
      "A value is trying to be set on a copy of a slice from a DataFrame\n",
      "\n",
      "See the caveats in the documentation: https://pandas.pydata.org/pandas-docs/stable/user_guide/indexing.html#returning-a-view-versus-a-copy\n",
      "  knnpred['TRAVEL_TIME'][125] = 716\n"
     ]
    }
   ],
   "source": [
    "knnpred = pd.read_csv(\"data/sampleSubmission.csv\")\n",
    "no_125 = (tnarrowed[['TRIP_ID']])\n",
    "no_125['TRAVEL_TIME'] = preds\n",
    "knnpred = knnpred.merge(no_125, how = 'left', right_on = 'TRIP_ID', left_on = 'TRIP_ID')\n",
    "knnpred = knnpred.drop(columns = 'TRAVEL_TIME_x').rename(columns = {'TRAVEL_TIME_y' : 'TRAVEL_TIME'})\n",
    "knnpred['TRAVEL_TIME'][125] = 716"
   ]
  },
  {
   "cell_type": "markdown",
   "id": "f943082a",
   "metadata": {},
   "source": [
    "## The predictions are now in knnpred dataframe displayed below, uncomment the last cell to turn to csv"
   ]
  },
  {
   "cell_type": "code",
   "execution_count": 11,
   "id": "159a273d",
   "metadata": {},
   "outputs": [
    {
     "data": {
      "text/html": [
       "<div>\n",
       "<style scoped>\n",
       "    .dataframe tbody tr th:only-of-type {\n",
       "        vertical-align: middle;\n",
       "    }\n",
       "\n",
       "    .dataframe tbody tr th {\n",
       "        vertical-align: top;\n",
       "    }\n",
       "\n",
       "    .dataframe thead th {\n",
       "        text-align: right;\n",
       "    }\n",
       "</style>\n",
       "<table border=\"1\" class=\"dataframe\">\n",
       "  <thead>\n",
       "    <tr style=\"text-align: right;\">\n",
       "      <th></th>\n",
       "      <th>TRIP_ID</th>\n",
       "      <th>TRAVEL_TIME</th>\n",
       "    </tr>\n",
       "  </thead>\n",
       "  <tbody>\n",
       "    <tr>\n",
       "      <th>0</th>\n",
       "      <td>T1</td>\n",
       "      <td>675.0</td>\n",
       "    </tr>\n",
       "    <tr>\n",
       "      <th>1</th>\n",
       "      <td>T2</td>\n",
       "      <td>675.0</td>\n",
       "    </tr>\n",
       "    <tr>\n",
       "      <th>2</th>\n",
       "      <td>T3</td>\n",
       "      <td>675.0</td>\n",
       "    </tr>\n",
       "    <tr>\n",
       "      <th>3</th>\n",
       "      <td>T4</td>\n",
       "      <td>675.0</td>\n",
       "    </tr>\n",
       "    <tr>\n",
       "      <th>4</th>\n",
       "      <td>T5</td>\n",
       "      <td>675.0</td>\n",
       "    </tr>\n",
       "    <tr>\n",
       "      <th>...</th>\n",
       "      <td>...</td>\n",
       "      <td>...</td>\n",
       "    </tr>\n",
       "    <tr>\n",
       "      <th>315</th>\n",
       "      <td>T323</td>\n",
       "      <td>783.0</td>\n",
       "    </tr>\n",
       "    <tr>\n",
       "      <th>316</th>\n",
       "      <td>T324</td>\n",
       "      <td>786.0</td>\n",
       "    </tr>\n",
       "    <tr>\n",
       "      <th>317</th>\n",
       "      <td>T325</td>\n",
       "      <td>1285.5</td>\n",
       "    </tr>\n",
       "    <tr>\n",
       "      <th>318</th>\n",
       "      <td>T326</td>\n",
       "      <td>783.0</td>\n",
       "    </tr>\n",
       "    <tr>\n",
       "      <th>319</th>\n",
       "      <td>T327</td>\n",
       "      <td>783.0</td>\n",
       "    </tr>\n",
       "  </tbody>\n",
       "</table>\n",
       "<p>320 rows × 2 columns</p>\n",
       "</div>"
      ],
      "text/plain": [
       "    TRIP_ID  TRAVEL_TIME\n",
       "0        T1        675.0\n",
       "1        T2        675.0\n",
       "2        T3        675.0\n",
       "3        T4        675.0\n",
       "4        T5        675.0\n",
       "..      ...          ...\n",
       "315    T323        783.0\n",
       "316    T324        786.0\n",
       "317    T325       1285.5\n",
       "318    T326        783.0\n",
       "319    T327        783.0\n",
       "\n",
       "[320 rows x 2 columns]"
      ]
     },
     "execution_count": 11,
     "metadata": {},
     "output_type": "execute_result"
    }
   ],
   "source": [
    "knnpred"
   ]
  },
  {
   "cell_type": "code",
   "execution_count": 12,
   "id": "6985fc5d",
   "metadata": {},
   "outputs": [],
   "source": [
    "# knnpred.to_csv(\"knn_final_pred.csv\", index=None)"
   ]
  }
 ],
 "metadata": {
  "kernelspec": {
   "display_name": "Python 3 (ipykernel)",
   "language": "python",
   "name": "python3"
  },
  "language_info": {
   "codemirror_mode": {
    "name": "ipython",
    "version": 3
   },
   "file_extension": ".py",
   "mimetype": "text/x-python",
   "name": "python",
   "nbconvert_exporter": "python",
   "pygments_lexer": "ipython3",
   "version": "3.9.7"
  }
 },
 "nbformat": 4,
 "nbformat_minor": 5
}
