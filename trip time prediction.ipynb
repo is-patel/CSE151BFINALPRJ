{
 "cells": [
  {
   "cell_type": "code",
   "execution_count": 1,
   "id": "7d5d1662",
   "metadata": {},
   "outputs": [],
   "source": [
    "import numpy as np\n",
    "import pandas as pd\n",
    "import matplotlib.pyplot as plt\n",
    "from datetime import datetime"
   ]
  },
  {
   "cell_type": "code",
   "execution_count": 2,
   "id": "383e1d13",
   "metadata": {},
   "outputs": [],
   "source": [
    "from tqdm import tqdm"
   ]
  },
  {
   "cell_type": "code",
   "execution_count": 3,
   "id": "32a59610",
   "metadata": {},
   "outputs": [],
   "source": [
    "# import matplotlib\n",
    "# matplotlib.use('TkAgg')"
   ]
  },
  {
   "cell_type": "code",
   "execution_count": 4,
   "id": "7527fbbb",
   "metadata": {},
   "outputs": [],
   "source": [
    "data = pd.read_csv(\"data/train.csv\")"
   ]
  },
  {
   "cell_type": "code",
   "execution_count": 5,
   "id": "cd7ea615",
   "metadata": {
    "scrolled": true
   },
   "outputs": [
    {
     "data": {
      "text/html": [
       "<div>\n",
       "<style scoped>\n",
       "    .dataframe tbody tr th:only-of-type {\n",
       "        vertical-align: middle;\n",
       "    }\n",
       "\n",
       "    .dataframe tbody tr th {\n",
       "        vertical-align: top;\n",
       "    }\n",
       "\n",
       "    .dataframe thead th {\n",
       "        text-align: right;\n",
       "    }\n",
       "</style>\n",
       "<table border=\"1\" class=\"dataframe\">\n",
       "  <thead>\n",
       "    <tr style=\"text-align: right;\">\n",
       "      <th></th>\n",
       "      <th>TRIP_ID</th>\n",
       "      <th>CALL_TYPE</th>\n",
       "      <th>ORIGIN_CALL</th>\n",
       "      <th>ORIGIN_STAND</th>\n",
       "      <th>TAXI_ID</th>\n",
       "      <th>TIMESTAMP</th>\n",
       "      <th>DAY_TYPE</th>\n",
       "      <th>MISSING_DATA</th>\n",
       "      <th>POLYLINE</th>\n",
       "    </tr>\n",
       "  </thead>\n",
       "  <tbody>\n",
       "    <tr>\n",
       "      <th>0</th>\n",
       "      <td>1372636858620000589</td>\n",
       "      <td>C</td>\n",
       "      <td>NaN</td>\n",
       "      <td>NaN</td>\n",
       "      <td>20000589</td>\n",
       "      <td>1372636858</td>\n",
       "      <td>A</td>\n",
       "      <td>False</td>\n",
       "      <td>[[-8.618643,41.141412],[-8.618499,41.141376],[...</td>\n",
       "    </tr>\n",
       "    <tr>\n",
       "      <th>1</th>\n",
       "      <td>1372637303620000596</td>\n",
       "      <td>B</td>\n",
       "      <td>NaN</td>\n",
       "      <td>7.0</td>\n",
       "      <td>20000596</td>\n",
       "      <td>1372637303</td>\n",
       "      <td>A</td>\n",
       "      <td>False</td>\n",
       "      <td>[[-8.639847,41.159826],[-8.640351,41.159871],[...</td>\n",
       "    </tr>\n",
       "    <tr>\n",
       "      <th>2</th>\n",
       "      <td>1372636951620000320</td>\n",
       "      <td>C</td>\n",
       "      <td>NaN</td>\n",
       "      <td>NaN</td>\n",
       "      <td>20000320</td>\n",
       "      <td>1372636951</td>\n",
       "      <td>A</td>\n",
       "      <td>False</td>\n",
       "      <td>[[-8.612964,41.140359],[-8.613378,41.14035],[-...</td>\n",
       "    </tr>\n",
       "    <tr>\n",
       "      <th>3</th>\n",
       "      <td>1372636854620000520</td>\n",
       "      <td>C</td>\n",
       "      <td>NaN</td>\n",
       "      <td>NaN</td>\n",
       "      <td>20000520</td>\n",
       "      <td>1372636854</td>\n",
       "      <td>A</td>\n",
       "      <td>False</td>\n",
       "      <td>[[-8.574678,41.151951],[-8.574705,41.151942],[...</td>\n",
       "    </tr>\n",
       "    <tr>\n",
       "      <th>4</th>\n",
       "      <td>1372637091620000337</td>\n",
       "      <td>C</td>\n",
       "      <td>NaN</td>\n",
       "      <td>NaN</td>\n",
       "      <td>20000337</td>\n",
       "      <td>1372637091</td>\n",
       "      <td>A</td>\n",
       "      <td>False</td>\n",
       "      <td>[[-8.645994,41.18049],[-8.645949,41.180517],[-...</td>\n",
       "    </tr>\n",
       "  </tbody>\n",
       "</table>\n",
       "</div>"
      ],
      "text/plain": [
       "               TRIP_ID CALL_TYPE  ORIGIN_CALL  ORIGIN_STAND   TAXI_ID  \\\n",
       "0  1372636858620000589         C          NaN           NaN  20000589   \n",
       "1  1372637303620000596         B          NaN           7.0  20000596   \n",
       "2  1372636951620000320         C          NaN           NaN  20000320   \n",
       "3  1372636854620000520         C          NaN           NaN  20000520   \n",
       "4  1372637091620000337         C          NaN           NaN  20000337   \n",
       "\n",
       "    TIMESTAMP DAY_TYPE  MISSING_DATA  \\\n",
       "0  1372636858        A         False   \n",
       "1  1372637303        A         False   \n",
       "2  1372636951        A         False   \n",
       "3  1372636854        A         False   \n",
       "4  1372637091        A         False   \n",
       "\n",
       "                                            POLYLINE  \n",
       "0  [[-8.618643,41.141412],[-8.618499,41.141376],[...  \n",
       "1  [[-8.639847,41.159826],[-8.640351,41.159871],[...  \n",
       "2  [[-8.612964,41.140359],[-8.613378,41.14035],[-...  \n",
       "3  [[-8.574678,41.151951],[-8.574705,41.151942],[...  \n",
       "4  [[-8.645994,41.18049],[-8.645949,41.180517],[-...  "
      ]
     },
     "execution_count": 5,
     "metadata": {},
     "output_type": "execute_result"
    }
   ],
   "source": [
    "data.head()"
   ]
  },
  {
   "cell_type": "markdown",
   "id": "24aea9f1",
   "metadata": {},
   "source": [
    "# Exploratory Analysis"
   ]
  },
  {
   "cell_type": "code",
   "execution_count": 6,
   "id": "807e1fd2",
   "metadata": {},
   "outputs": [
    {
     "name": "stdout",
     "output_type": "stream",
     "text": [
      "TRIP_ID 1710589\n",
      "CALL_TYPE 3\n",
      "ORIGIN_CALL 57105\n",
      "ORIGIN_STAND 63\n",
      "TAXI_ID 448\n",
      "TIMESTAMP 1655366\n",
      "DAY_TYPE 1\n",
      "MISSING_DATA 2\n",
      "POLYLINE 1703650\n"
     ]
    }
   ],
   "source": [
    "dims = 0\n",
    "for i in data.columns:\n",
    "    print(i,data[i].nunique())\n",
    "    dims += data[i].nunique()"
   ]
  },
  {
   "cell_type": "code",
   "execution_count": null,
   "id": "8024b805",
   "metadata": {},
   "outputs": [],
   "source": []
  },
  {
   "cell_type": "code",
   "execution_count": 6,
   "id": "1f166afd",
   "metadata": {},
   "outputs": [
    {
     "name": "stderr",
     "output_type": "stream",
     "text": [
      "C:\\Users\\ishpa\\AppData\\Local\\Programs\\Python\\Python39\\lib\\site-packages\\pandas\\core\\frame.py:3641: SettingWithCopyWarning: \n",
      "A value is trying to be set on a copy of a slice from a DataFrame.\n",
      "Try using .loc[row_indexer,col_indexer] = value instead\n",
      "\n",
      "See the caveats in the documentation: https://pandas.pydata.org/pandas-docs/stable/user_guide/indexing.html#returning-a-view-versus-a-copy\n",
      "  self[k1] = value[k2]\n"
     ]
    }
   ],
   "source": [
    "training = data[~data['MISSING_DATA']]\n",
    "\n",
    "# adding date time, modified from given feature engineering notebook\n",
    "getdate = lambda x : [tuple([i.year, i.month, i.day, i.hour, i.weekday()]) for i in [datetime.fromtimestamp(x[\"TIMESTAMP\"])]][0]\n",
    "training[[\"YR\", \"MON\", \"DAY\", \"HR\", \"WK\"]] = training[[\"TIMESTAMP\"]].apply(getdate, axis=1, result_type=\"expand\")\n",
    "training = training.drop(columns = ['TIMESTAMP'])\n",
    "\n",
    "# adding trip time, using the given 15 second formula on polyline\n",
    "training['TRIP_TIME'] = training['POLYLINE'].apply(lambda x : max(x.count(\".\")/2-1,0)*15)\n",
    "training = training.drop(columns = ['POLYLINE'])"
   ]
  },
  {
   "cell_type": "code",
   "execution_count": 8,
   "id": "dc107875",
   "metadata": {},
   "outputs": [
    {
     "data": {
      "text/html": [
       "<div>\n",
       "<style scoped>\n",
       "    .dataframe tbody tr th:only-of-type {\n",
       "        vertical-align: middle;\n",
       "    }\n",
       "\n",
       "    .dataframe tbody tr th {\n",
       "        vertical-align: top;\n",
       "    }\n",
       "\n",
       "    .dataframe thead th {\n",
       "        text-align: right;\n",
       "    }\n",
       "</style>\n",
       "<table border=\"1\" class=\"dataframe\">\n",
       "  <thead>\n",
       "    <tr style=\"text-align: right;\">\n",
       "      <th></th>\n",
       "      <th>TRIP_ID</th>\n",
       "      <th>CALL_TYPE</th>\n",
       "      <th>ORIGIN_CALL</th>\n",
       "      <th>ORIGIN_STAND</th>\n",
       "      <th>TAXI_ID</th>\n",
       "      <th>DAY_TYPE</th>\n",
       "      <th>MISSING_DATA</th>\n",
       "      <th>YR</th>\n",
       "      <th>MON</th>\n",
       "      <th>DAY</th>\n",
       "      <th>HR</th>\n",
       "      <th>WK</th>\n",
       "      <th>TRIP_TIME</th>\n",
       "    </tr>\n",
       "  </thead>\n",
       "  <tbody>\n",
       "    <tr>\n",
       "      <th>0</th>\n",
       "      <td>1372636858620000589</td>\n",
       "      <td>C</td>\n",
       "      <td>NaN</td>\n",
       "      <td>NaN</td>\n",
       "      <td>20000589</td>\n",
       "      <td>A</td>\n",
       "      <td>False</td>\n",
       "      <td>2013</td>\n",
       "      <td>6</td>\n",
       "      <td>30</td>\n",
       "      <td>17</td>\n",
       "      <td>6</td>\n",
       "      <td>330.0</td>\n",
       "    </tr>\n",
       "    <tr>\n",
       "      <th>1</th>\n",
       "      <td>1372637303620000596</td>\n",
       "      <td>B</td>\n",
       "      <td>NaN</td>\n",
       "      <td>7.0</td>\n",
       "      <td>20000596</td>\n",
       "      <td>A</td>\n",
       "      <td>False</td>\n",
       "      <td>2013</td>\n",
       "      <td>6</td>\n",
       "      <td>30</td>\n",
       "      <td>17</td>\n",
       "      <td>6</td>\n",
       "      <td>270.0</td>\n",
       "    </tr>\n",
       "    <tr>\n",
       "      <th>2</th>\n",
       "      <td>1372636951620000320</td>\n",
       "      <td>C</td>\n",
       "      <td>NaN</td>\n",
       "      <td>NaN</td>\n",
       "      <td>20000320</td>\n",
       "      <td>A</td>\n",
       "      <td>False</td>\n",
       "      <td>2013</td>\n",
       "      <td>6</td>\n",
       "      <td>30</td>\n",
       "      <td>17</td>\n",
       "      <td>6</td>\n",
       "      <td>960.0</td>\n",
       "    </tr>\n",
       "    <tr>\n",
       "      <th>3</th>\n",
       "      <td>1372636854620000520</td>\n",
       "      <td>C</td>\n",
       "      <td>NaN</td>\n",
       "      <td>NaN</td>\n",
       "      <td>20000520</td>\n",
       "      <td>A</td>\n",
       "      <td>False</td>\n",
       "      <td>2013</td>\n",
       "      <td>6</td>\n",
       "      <td>30</td>\n",
       "      <td>17</td>\n",
       "      <td>6</td>\n",
       "      <td>630.0</td>\n",
       "    </tr>\n",
       "    <tr>\n",
       "      <th>4</th>\n",
       "      <td>1372637091620000337</td>\n",
       "      <td>C</td>\n",
       "      <td>NaN</td>\n",
       "      <td>NaN</td>\n",
       "      <td>20000337</td>\n",
       "      <td>A</td>\n",
       "      <td>False</td>\n",
       "      <td>2013</td>\n",
       "      <td>6</td>\n",
       "      <td>30</td>\n",
       "      <td>17</td>\n",
       "      <td>6</td>\n",
       "      <td>420.0</td>\n",
       "    </tr>\n",
       "    <tr>\n",
       "      <th>...</th>\n",
       "      <td>...</td>\n",
       "      <td>...</td>\n",
       "      <td>...</td>\n",
       "      <td>...</td>\n",
       "      <td>...</td>\n",
       "      <td>...</td>\n",
       "      <td>...</td>\n",
       "      <td>...</td>\n",
       "      <td>...</td>\n",
       "      <td>...</td>\n",
       "      <td>...</td>\n",
       "      <td>...</td>\n",
       "      <td>...</td>\n",
       "    </tr>\n",
       "    <tr>\n",
       "      <th>1710665</th>\n",
       "      <td>1404171463620000698</td>\n",
       "      <td>C</td>\n",
       "      <td>NaN</td>\n",
       "      <td>NaN</td>\n",
       "      <td>20000698</td>\n",
       "      <td>A</td>\n",
       "      <td>False</td>\n",
       "      <td>2014</td>\n",
       "      <td>6</td>\n",
       "      <td>30</td>\n",
       "      <td>16</td>\n",
       "      <td>0</td>\n",
       "      <td>465.0</td>\n",
       "    </tr>\n",
       "    <tr>\n",
       "      <th>1710666</th>\n",
       "      <td>1404171367620000670</td>\n",
       "      <td>C</td>\n",
       "      <td>NaN</td>\n",
       "      <td>NaN</td>\n",
       "      <td>20000670</td>\n",
       "      <td>A</td>\n",
       "      <td>False</td>\n",
       "      <td>2014</td>\n",
       "      <td>6</td>\n",
       "      <td>30</td>\n",
       "      <td>16</td>\n",
       "      <td>0</td>\n",
       "      <td>435.0</td>\n",
       "    </tr>\n",
       "    <tr>\n",
       "      <th>1710667</th>\n",
       "      <td>1388745716620000264</td>\n",
       "      <td>C</td>\n",
       "      <td>NaN</td>\n",
       "      <td>NaN</td>\n",
       "      <td>20000264</td>\n",
       "      <td>A</td>\n",
       "      <td>False</td>\n",
       "      <td>2014</td>\n",
       "      <td>1</td>\n",
       "      <td>3</td>\n",
       "      <td>2</td>\n",
       "      <td>4</td>\n",
       "      <td>0.0</td>\n",
       "    </tr>\n",
       "    <tr>\n",
       "      <th>1710668</th>\n",
       "      <td>1404141826620000248</td>\n",
       "      <td>B</td>\n",
       "      <td>NaN</td>\n",
       "      <td>12.0</td>\n",
       "      <td>20000248</td>\n",
       "      <td>A</td>\n",
       "      <td>False</td>\n",
       "      <td>2014</td>\n",
       "      <td>6</td>\n",
       "      <td>30</td>\n",
       "      <td>8</td>\n",
       "      <td>0</td>\n",
       "      <td>915.0</td>\n",
       "    </tr>\n",
       "    <tr>\n",
       "      <th>1710669</th>\n",
       "      <td>1404157147620000079</td>\n",
       "      <td>B</td>\n",
       "      <td>NaN</td>\n",
       "      <td>34.0</td>\n",
       "      <td>20000079</td>\n",
       "      <td>A</td>\n",
       "      <td>False</td>\n",
       "      <td>2014</td>\n",
       "      <td>6</td>\n",
       "      <td>30</td>\n",
       "      <td>12</td>\n",
       "      <td>0</td>\n",
       "      <td>390.0</td>\n",
       "    </tr>\n",
       "  </tbody>\n",
       "</table>\n",
       "<p>1710660 rows × 13 columns</p>\n",
       "</div>"
      ],
      "text/plain": [
       "                     TRIP_ID CALL_TYPE  ORIGIN_CALL  ORIGIN_STAND   TAXI_ID  \\\n",
       "0        1372636858620000589         C          NaN           NaN  20000589   \n",
       "1        1372637303620000596         B          NaN           7.0  20000596   \n",
       "2        1372636951620000320         C          NaN           NaN  20000320   \n",
       "3        1372636854620000520         C          NaN           NaN  20000520   \n",
       "4        1372637091620000337         C          NaN           NaN  20000337   \n",
       "...                      ...       ...          ...           ...       ...   \n",
       "1710665  1404171463620000698         C          NaN           NaN  20000698   \n",
       "1710666  1404171367620000670         C          NaN           NaN  20000670   \n",
       "1710667  1388745716620000264         C          NaN           NaN  20000264   \n",
       "1710668  1404141826620000248         B          NaN          12.0  20000248   \n",
       "1710669  1404157147620000079         B          NaN          34.0  20000079   \n",
       "\n",
       "        DAY_TYPE  MISSING_DATA    YR  MON  DAY  HR  WK  TRIP_TIME  \n",
       "0              A         False  2013    6   30  17   6      330.0  \n",
       "1              A         False  2013    6   30  17   6      270.0  \n",
       "2              A         False  2013    6   30  17   6      960.0  \n",
       "3              A         False  2013    6   30  17   6      630.0  \n",
       "4              A         False  2013    6   30  17   6      420.0  \n",
       "...          ...           ...   ...  ...  ...  ..  ..        ...  \n",
       "1710665        A         False  2014    6   30  16   0      465.0  \n",
       "1710666        A         False  2014    6   30  16   0      435.0  \n",
       "1710667        A         False  2014    1    3   2   4        0.0  \n",
       "1710668        A         False  2014    6   30   8   0      915.0  \n",
       "1710669        A         False  2014    6   30  12   0      390.0  \n",
       "\n",
       "[1710660 rows x 13 columns]"
      ]
     },
     "execution_count": 8,
     "metadata": {},
     "output_type": "execute_result"
    }
   ],
   "source": [
    "training"
   ]
  },
  {
   "cell_type": "code",
   "execution_count": null,
   "id": "8a0fa544",
   "metadata": {
    "scrolled": false
   },
   "outputs": [],
   "source": [
    "plt.hist(training['TRIP_TIME'], bins = np.arange(0,3000,30), density = True)\n",
    "plt.ylabel('Probability density')\n",
    "plt.xlabel('Trip time in seconds')\n",
    "plt.show()\n",
    "plt.savefig(\"timedisthist.png\")\n",
    "plt.show()"
   ]
  },
  {
   "cell_type": "code",
   "execution_count": 165,
   "id": "74950113",
   "metadata": {
    "scrolled": true
   },
   "outputs": [],
   "source": [
    "import json\n",
    "import seaborn as sns\n",
    "from matplotlib.ticker import MaxNLocator"
   ]
  },
  {
   "cell_type": "code",
   "execution_count": null,
   "id": "f694d6f4",
   "metadata": {
    "scrolled": true
   },
   "outputs": [],
   "source": [
    "paths = data[~data['MISSING_DATA']]['POLYLINE']\n",
    "points = []\n",
    "\n",
    "for path in tqdm(paths):\n",
    "    points += json.loads(path)\n",
    "\n",
    "pts = np.array(points)"
   ]
  },
  {
   "cell_type": "code",
   "execution_count": null,
   "id": "525a9961",
   "metadata": {},
   "outputs": [],
   "source": [
    "npts = pts[np.arange(len(pts))%20==0]\n",
    "\n",
    "m0 = np.mean(npts[:,0])\n",
    "s0 = np.std(npts[:,0])\n",
    "m1 = np.mean(npts[:,1])\n",
    "s1 = np.std(npts[:,1])\n",
    "\n",
    "npts = npts[((npts[:,1] > m1-3*s1) & (npts[:,1] < m1+3*s1))&((npts[:,0] > m0-3*s0) & (npts[:,0] < m0+3*s0))]"
   ]
  },
  {
   "cell_type": "code",
   "execution_count": null,
   "id": "1f303b34",
   "metadata": {},
   "outputs": [],
   "source": [
    "coordinates = npts\n",
    "\n",
    "# Extract latitude and longitude from filtered coordinates\n",
    "latitude = coordinates[:, 1]\n",
    "longitude = coordinates[:, 0]\n",
    "\n",
    "# Create a 2D grid for the heatmap\n",
    "heatmap, xedges, yedges = np.histogram2d(latitude, longitude, bins=200, range = [[41.125,41.210],[-8.700,-8.550]])\n",
    "\n",
    "# Create the heatmap using seaborn\n",
    "ax = sns.heatmap(heatmap,xticklabels=False, yticklabels=False,vmax=7500)\n",
    "ax.invert_yaxis()\n",
    "\n",
    "# Set the x and y axis tick positions and labels\n",
    "\n",
    "# Add title and labels\n",
    "plt.title(\"Geographic Heatmap\")\n",
    "plt.xlabel(\"Longitude (-8.700 to -8.550)\")\n",
    "plt.ylabel(\"Latitude (41.125 to 41.210)\")\n",
    "\n",
    "# Show the plot\n",
    "plt.show()\n",
    "plt.savefig(\"heatmap.png\")"
   ]
  },
  {
   "cell_type": "markdown",
   "id": "f5b218aa",
   "metadata": {},
   "source": [
    "## Further analysis"
   ]
  },
  {
   "cell_type": "code",
   "execution_count": null,
   "id": "88c17bfd",
   "metadata": {
    "scrolled": true
   },
   "outputs": [],
   "source": [
    "training.head()"
   ]
  },
  {
   "cell_type": "markdown",
   "id": "997048d2",
   "metadata": {},
   "source": [
    "# Model testing and training"
   ]
  },
  {
   "cell_type": "markdown",
   "id": "ce2a3abc",
   "metadata": {},
   "source": [
    "## Linear Model"
   ]
  },
  {
   "cell_type": "code",
   "execution_count": 7,
   "id": "04ecf1c9",
   "metadata": {},
   "outputs": [],
   "source": [
    "from sklearn.linear_model import LinearRegression\n",
    "from sklearn.preprocessing import FunctionTransformer\n",
    "from sklearn.preprocessing import OneHotEncoder\n",
    "from sklearn.compose import ColumnTransformer\n",
    "from sklearn.pipeline import Pipeline"
   ]
  },
  {
   "cell_type": "code",
   "execution_count": 34,
   "id": "783a7afa",
   "metadata": {},
   "outputs": [],
   "source": [
    "linearfeatures = training.drop(columns = ['TRIP_ID','ORIGIN_CALL','ORIGIN_STAND','TAXI_ID','DAY_TYPE','MISSING_DATA'])\n",
    "linearfeatures = np.random.permutation(linearfeatures)\n",
    "\n",
    "train = linearfeatures[:(len(linearfeatures)*8)//10]\n",
    "test = linearfeatures[(len(linearfeatures)*8)//10:]\n",
    "\n",
    "xtrain, ytrain = train[:,:-1], train[:,-1]\n",
    "xtest, ytest = test[:,:-1], test[:,-1]"
   ]
  },
  {
   "cell_type": "code",
   "execution_count": 35,
   "id": "dd6c1aee",
   "metadata": {},
   "outputs": [
    {
     "name": "stdout",
     "output_type": "stream",
     "text": [
      "CALL_TYPE 3\n",
      "YR 2\n",
      "MON 12\n",
      "DAY 31\n",
      "HR 24\n",
      "WK 7\n",
      "TRIP_TIME 1254\n"
     ]
    }
   ],
   "source": [
    "#xtrain, ytrain\n",
    "linfeat = training.drop(columns = ['TRIP_ID','ORIGIN_CALL','ORIGIN_STAND','TAXI_ID','DAY_TYPE','MISSING_DATA'])\n",
    "for i in linfeat.columns:\n",
    "    print(i,linfeat[i].nunique())"
   ]
  },
  {
   "cell_type": "code",
   "execution_count": 39,
   "id": "1542a7a6",
   "metadata": {},
   "outputs": [],
   "source": [
    "def getlinmdl(X,y):\n",
    "    grphr = Pipeline([('func',FunctionTransformer(lambda x : x//8)),('one-hot2',OneHotEncoder(handle_unknown='ignore'))])\n",
    "    pret = ColumnTransformer(transformers = [(\"one-hot\",OneHotEncoder(handle_unknown='ignore'),[0,2,5]),\n",
    "                                            ('hourtrans',grphr,[4]),], \n",
    "                                 remainder = \"drop\")\n",
    "    mdl = Pipeline([('ohe',pret),('linreg',LinearRegression())])\n",
    "    mdl.fit(X,y)\n",
    "    return mdl\n",
    "\n",
    "def initialtrans(data):\n",
    "    getdate = lambda x : [tuple([i.year, i.month, i.day, i.hour, i.weekday()]) for i in [datetime.fromtimestamp(x[\"TIMESTAMP\"])]][0]\n",
    "    data[[\"YR\", \"MON\", \"DAY\", \"HR\", \"WK\"]] = data[[\"TIMESTAMP\"]].apply(getdate, axis=1, result_type=\"expand\")\n",
    "    data = data.drop(columns = ['TIMESTAMP','TRIP_ID','ORIGIN_CALL','ORIGIN_STAND','TAXI_ID','DAY_TYPE','MISSING_DATA'])\n",
    "    return data"
   ]
  },
  {
   "cell_type": "code",
   "execution_count": 102,
   "id": "4e9d4083",
   "metadata": {},
   "outputs": [],
   "source": [
    "linmdl = getlinmdl(xtrain, ytrain)"
   ]
  },
  {
   "cell_type": "code",
   "execution_count": 103,
   "id": "5a8bc259",
   "metadata": {},
   "outputs": [
    {
     "data": {
      "text/plain": [
       "0.017059113325946895"
      ]
     },
     "execution_count": 103,
     "metadata": {},
     "output_type": "execute_result"
    }
   ],
   "source": [
    "linmdl.score(xtest,ytest)"
   ]
  },
  {
   "cell_type": "code",
   "execution_count": 104,
   "id": "2424ef96",
   "metadata": {},
   "outputs": [
    {
     "data": {
      "text/plain": [
       "0.01679197385402742"
      ]
     },
     "execution_count": 104,
     "metadata": {},
     "output_type": "execute_result"
    }
   ],
   "source": [
    "linmdl.score(xtrain,ytrain)"
   ]
  },
  {
   "cell_type": "code",
   "execution_count": 105,
   "id": "de584839",
   "metadata": {},
   "outputs": [
    {
     "data": {
      "text/plain": [
       "array([634.79026855])"
      ]
     },
     "execution_count": 105,
     "metadata": {},
     "output_type": "execute_result"
    }
   ],
   "source": [
    "linmdl.predict([xtest[6]])"
   ]
  },
  {
   "cell_type": "code",
   "execution_count": null,
   "id": "e158eb8d",
   "metadata": {},
   "outputs": [],
   "source": [
    "finallinmdl = getlinmdl(linearfeatures[:,:-1],linearfeatures[:,-1])"
   ]
  },
  {
   "cell_type": "code",
   "execution_count": null,
   "id": "7c299403",
   "metadata": {},
   "outputs": [],
   "source": [
    "true_test = pd.read_csv('data/test_public.csv')\n",
    "ttX = np.array(initialtrans(true_test))"
   ]
  },
  {
   "cell_type": "code",
   "execution_count": null,
   "id": "f13b8846",
   "metadata": {},
   "outputs": [],
   "source": [
    "predictions = linmdl.predict(ttX)\n",
    "linmdlprediction = pd.read_csv(\"data/sampleSubmission.csv\")\n",
    "linmdlprediction['TRAVEL_TIME'] = predictions\n",
    "linmdlprediction.to_csv(\"linpred.csv\", index=None)"
   ]
  },
  {
   "cell_type": "markdown",
   "id": "23fc73e4",
   "metadata": {},
   "source": [
    "The score given by the leaderboard was 777.83934"
   ]
  },
  {
   "cell_type": "markdown",
   "id": "17b94ac9",
   "metadata": {},
   "source": [
    "### Training visualization using sgd"
   ]
  },
  {
   "cell_type": "code",
   "execution_count": 116,
   "id": "8abfc702",
   "metadata": {},
   "outputs": [],
   "source": [
    "def loss(X, Y, w):\n",
    "    return np.sum((Y-X@w)**2)\n",
    "\n",
    "def gradient(X, Y, w):\n",
    "    return -2*np.dot((Y-np.dot(X,w)),X)\n",
    "\n",
    "def SGD(X, Y, w_start, eta, N_epochs):\n",
    "    Xmod = np.concatenate((X, np.ones((X.shape[0], 1))), axis = 1)\n",
    "    w = w_start\n",
    "    weights = []\n",
    "    losses = np.array([])\n",
    "    \n",
    "    losses = np.append(losses,loss(Xmod,Y,w))\n",
    "    \n",
    "    for i in tqdm(range(N_epochs)):\n",
    "        w = w - eta*gradient(Xmod,Y,w)\n",
    "        losses = np.append(losses,loss(Xmod,Y,w))\n",
    "        weights += [w]\n",
    "    \n",
    "    return w, losses #weights, losses *changed to only return last*"
   ]
  },
  {
   "cell_type": "code",
   "execution_count": 79,
   "id": "732cf2e2",
   "metadata": {},
   "outputs": [],
   "source": [
    "def lineartransform(X):\n",
    "    grphr = Pipeline([('func',FunctionTransformer(lambda x : x//8)),('one-hot2',OneHotEncoder(handle_unknown='ignore'))])\n",
    "    pret = ColumnTransformer(transformers = [(\"one-hot\",OneHotEncoder(handle_unknown='ignore'),[0,2,5]),\n",
    "                                            ('hourtrans',grphr,[4]),], \n",
    "                                 remainder = \"drop\")\n",
    "    pret.fit(X)\n",
    "    return pret.transform(X)"
   ]
  },
  {
   "cell_type": "code",
   "execution_count": null,
   "id": "eceeae1f",
   "metadata": {
    "scrolled": true
   },
   "outputs": [],
   "source": [
    "x_mat = lineartransform(xtrain).todense()"
   ]
  },
  {
   "cell_type": "code",
   "execution_count": 130,
   "id": "b4c31a4d",
   "metadata": {},
   "outputs": [
    {
     "data": {
      "text/html": [
       "<div>\n",
       "<style scoped>\n",
       "    .dataframe tbody tr th:only-of-type {\n",
       "        vertical-align: middle;\n",
       "    }\n",
       "\n",
       "    .dataframe tbody tr th {\n",
       "        vertical-align: top;\n",
       "    }\n",
       "\n",
       "    .dataframe thead th {\n",
       "        text-align: right;\n",
       "    }\n",
       "</style>\n",
       "<table border=\"1\" class=\"dataframe\">\n",
       "  <thead>\n",
       "    <tr style=\"text-align: right;\">\n",
       "      <th></th>\n",
       "      <th>TRIP_ID</th>\n",
       "      <th>CALL_TYPE</th>\n",
       "      <th>ORIGIN_CALL</th>\n",
       "      <th>ORIGIN_STAND</th>\n",
       "      <th>TAXI_ID</th>\n",
       "      <th>DAY_TYPE</th>\n",
       "      <th>MISSING_DATA</th>\n",
       "      <th>YR</th>\n",
       "      <th>MON</th>\n",
       "      <th>DAY</th>\n",
       "      <th>HR</th>\n",
       "      <th>WK</th>\n",
       "      <th>TRIP_TIME</th>\n",
       "    </tr>\n",
       "  </thead>\n",
       "  <tbody>\n",
       "    <tr>\n",
       "      <th>0</th>\n",
       "      <td>1372636858620000589</td>\n",
       "      <td>C</td>\n",
       "      <td>NaN</td>\n",
       "      <td>NaN</td>\n",
       "      <td>20000589</td>\n",
       "      <td>A</td>\n",
       "      <td>False</td>\n",
       "      <td>2013</td>\n",
       "      <td>6</td>\n",
       "      <td>30</td>\n",
       "      <td>17</td>\n",
       "      <td>6</td>\n",
       "      <td>330.0</td>\n",
       "    </tr>\n",
       "    <tr>\n",
       "      <th>1</th>\n",
       "      <td>1372637303620000596</td>\n",
       "      <td>B</td>\n",
       "      <td>NaN</td>\n",
       "      <td>7.0</td>\n",
       "      <td>20000596</td>\n",
       "      <td>A</td>\n",
       "      <td>False</td>\n",
       "      <td>2013</td>\n",
       "      <td>6</td>\n",
       "      <td>30</td>\n",
       "      <td>17</td>\n",
       "      <td>6</td>\n",
       "      <td>270.0</td>\n",
       "    </tr>\n",
       "    <tr>\n",
       "      <th>2</th>\n",
       "      <td>1372636951620000320</td>\n",
       "      <td>C</td>\n",
       "      <td>NaN</td>\n",
       "      <td>NaN</td>\n",
       "      <td>20000320</td>\n",
       "      <td>A</td>\n",
       "      <td>False</td>\n",
       "      <td>2013</td>\n",
       "      <td>6</td>\n",
       "      <td>30</td>\n",
       "      <td>17</td>\n",
       "      <td>6</td>\n",
       "      <td>960.0</td>\n",
       "    </tr>\n",
       "    <tr>\n",
       "      <th>3</th>\n",
       "      <td>1372636854620000520</td>\n",
       "      <td>C</td>\n",
       "      <td>NaN</td>\n",
       "      <td>NaN</td>\n",
       "      <td>20000520</td>\n",
       "      <td>A</td>\n",
       "      <td>False</td>\n",
       "      <td>2013</td>\n",
       "      <td>6</td>\n",
       "      <td>30</td>\n",
       "      <td>17</td>\n",
       "      <td>6</td>\n",
       "      <td>630.0</td>\n",
       "    </tr>\n",
       "    <tr>\n",
       "      <th>4</th>\n",
       "      <td>1372637091620000337</td>\n",
       "      <td>C</td>\n",
       "      <td>NaN</td>\n",
       "      <td>NaN</td>\n",
       "      <td>20000337</td>\n",
       "      <td>A</td>\n",
       "      <td>False</td>\n",
       "      <td>2013</td>\n",
       "      <td>6</td>\n",
       "      <td>30</td>\n",
       "      <td>17</td>\n",
       "      <td>6</td>\n",
       "      <td>420.0</td>\n",
       "    </tr>\n",
       "    <tr>\n",
       "      <th>...</th>\n",
       "      <td>...</td>\n",
       "      <td>...</td>\n",
       "      <td>...</td>\n",
       "      <td>...</td>\n",
       "      <td>...</td>\n",
       "      <td>...</td>\n",
       "      <td>...</td>\n",
       "      <td>...</td>\n",
       "      <td>...</td>\n",
       "      <td>...</td>\n",
       "      <td>...</td>\n",
       "      <td>...</td>\n",
       "      <td>...</td>\n",
       "    </tr>\n",
       "    <tr>\n",
       "      <th>1710665</th>\n",
       "      <td>1404171463620000698</td>\n",
       "      <td>C</td>\n",
       "      <td>NaN</td>\n",
       "      <td>NaN</td>\n",
       "      <td>20000698</td>\n",
       "      <td>A</td>\n",
       "      <td>False</td>\n",
       "      <td>2014</td>\n",
       "      <td>6</td>\n",
       "      <td>30</td>\n",
       "      <td>16</td>\n",
       "      <td>0</td>\n",
       "      <td>465.0</td>\n",
       "    </tr>\n",
       "    <tr>\n",
       "      <th>1710666</th>\n",
       "      <td>1404171367620000670</td>\n",
       "      <td>C</td>\n",
       "      <td>NaN</td>\n",
       "      <td>NaN</td>\n",
       "      <td>20000670</td>\n",
       "      <td>A</td>\n",
       "      <td>False</td>\n",
       "      <td>2014</td>\n",
       "      <td>6</td>\n",
       "      <td>30</td>\n",
       "      <td>16</td>\n",
       "      <td>0</td>\n",
       "      <td>435.0</td>\n",
       "    </tr>\n",
       "    <tr>\n",
       "      <th>1710667</th>\n",
       "      <td>1388745716620000264</td>\n",
       "      <td>C</td>\n",
       "      <td>NaN</td>\n",
       "      <td>NaN</td>\n",
       "      <td>20000264</td>\n",
       "      <td>A</td>\n",
       "      <td>False</td>\n",
       "      <td>2014</td>\n",
       "      <td>1</td>\n",
       "      <td>3</td>\n",
       "      <td>2</td>\n",
       "      <td>4</td>\n",
       "      <td>0.0</td>\n",
       "    </tr>\n",
       "    <tr>\n",
       "      <th>1710668</th>\n",
       "      <td>1404141826620000248</td>\n",
       "      <td>B</td>\n",
       "      <td>NaN</td>\n",
       "      <td>12.0</td>\n",
       "      <td>20000248</td>\n",
       "      <td>A</td>\n",
       "      <td>False</td>\n",
       "      <td>2014</td>\n",
       "      <td>6</td>\n",
       "      <td>30</td>\n",
       "      <td>8</td>\n",
       "      <td>0</td>\n",
       "      <td>915.0</td>\n",
       "    </tr>\n",
       "    <tr>\n",
       "      <th>1710669</th>\n",
       "      <td>1404157147620000079</td>\n",
       "      <td>B</td>\n",
       "      <td>NaN</td>\n",
       "      <td>34.0</td>\n",
       "      <td>20000079</td>\n",
       "      <td>A</td>\n",
       "      <td>False</td>\n",
       "      <td>2014</td>\n",
       "      <td>6</td>\n",
       "      <td>30</td>\n",
       "      <td>12</td>\n",
       "      <td>0</td>\n",
       "      <td>390.0</td>\n",
       "    </tr>\n",
       "  </tbody>\n",
       "</table>\n",
       "<p>1710660 rows × 13 columns</p>\n",
       "</div>"
      ],
      "text/plain": [
       "                     TRIP_ID CALL_TYPE  ORIGIN_CALL  ORIGIN_STAND   TAXI_ID  \\\n",
       "0        1372636858620000589         C          NaN           NaN  20000589   \n",
       "1        1372637303620000596         B          NaN           7.0  20000596   \n",
       "2        1372636951620000320         C          NaN           NaN  20000320   \n",
       "3        1372636854620000520         C          NaN           NaN  20000520   \n",
       "4        1372637091620000337         C          NaN           NaN  20000337   \n",
       "...                      ...       ...          ...           ...       ...   \n",
       "1710665  1404171463620000698         C          NaN           NaN  20000698   \n",
       "1710666  1404171367620000670         C          NaN           NaN  20000670   \n",
       "1710667  1388745716620000264         C          NaN           NaN  20000264   \n",
       "1710668  1404141826620000248         B          NaN          12.0  20000248   \n",
       "1710669  1404157147620000079         B          NaN          34.0  20000079   \n",
       "\n",
       "        DAY_TYPE  MISSING_DATA    YR  MON  DAY  HR  WK  TRIP_TIME  \n",
       "0              A         False  2013    6   30  17   6      330.0  \n",
       "1              A         False  2013    6   30  17   6      270.0  \n",
       "2              A         False  2013    6   30  17   6      960.0  \n",
       "3              A         False  2013    6   30  17   6      630.0  \n",
       "4              A         False  2013    6   30  17   6      420.0  \n",
       "...          ...           ...   ...  ...  ...  ..  ..        ...  \n",
       "1710665        A         False  2014    6   30  16   0      465.0  \n",
       "1710666        A         False  2014    6   30  16   0      435.0  \n",
       "1710667        A         False  2014    1    3   2   4        0.0  \n",
       "1710668        A         False  2014    6   30   8   0      915.0  \n",
       "1710669        A         False  2014    6   30  12   0      390.0  \n",
       "\n",
       "[1710660 rows x 13 columns]"
      ]
     },
     "execution_count": 130,
     "metadata": {},
     "output_type": "execute_result"
    }
   ],
   "source": [
    "training"
   ]
  },
  {
   "cell_type": "code",
   "execution_count": 87,
   "id": "f18c705a",
   "metadata": {
    "scrolled": false
   },
   "outputs": [
    {
     "name": "stderr",
     "output_type": "stream",
     "text": [
      "100%|██████████████████████████████████████████████████████████████████████████████████| 10/10 [00:56<00:00,  5.70s/it]\n"
     ]
    }
   ],
   "source": [
    "w,losses = SGD(np.array(x_mat), ytrain, np.zeros(26), np.exp(-15), 10)"
   ]
  },
  {
   "cell_type": "code",
   "execution_count": 114,
   "id": "8a6c4b9c",
   "metadata": {
    "scrolled": false
   },
   "outputs": [
    {
     "data": {
      "text/plain": [
       "Text(0.5, 1.0, 'SGD Optimization')"
      ]
     },
     "execution_count": 114,
     "metadata": {},
     "output_type": "execute_result"
    },
    {
     "data": {
      "image/png": "[encoded data removed]",
      "text/plain": [
       "<Figure size 640x480 with 1 Axes>"
      ]
     },
     "metadata": {},
     "output_type": "display_data"
    }
   ],
   "source": [
    "plt.plot(np.sqrt(losses)/x_mat.shape[0])\n",
    "plt.xlabel('Iteration')\n",
    "plt.ylabel('RMSE')\n",
    "plt.title('SGD Optimization')"
   ]
  },
  {
   "cell_type": "code",
   "execution_count": 137,
   "id": "45b4f0c2",
   "metadata": {},
   "outputs": [],
   "source": [
    "top10 = training.drop(columns = ['TRIP_ID','ORIGIN_CALL','ORIGIN_STAND','TAXI_ID','DAY_TYPE','MISSING_DATA'])\n",
    "\n",
    "top10features = np.array(top10features)\n",
    "\n",
    "top10['PRED'] = linmdl.predict(top10features)"
   ]
  },
  {
   "cell_type": "code",
   "execution_count": 167,
   "id": "1e034da1",
   "metadata": {
    "scrolled": true
   },
   "outputs": [],
   "source": [
    "top10['LOSS'] = abs(top10['TRIP_TIME'] - top10['PRED'])\n",
    "\n",
    "top10idx = list(top10.sort_values('LOSS').index[:10])\n",
    "\n",
    "pathlist = list(data.iloc[top10idx,:]['POLYLINE'])\n",
    "\n",
    "paths = []\n",
    "\n",
    "for path in pathlist:\n",
    "    paths += [json.loads(path)]"
   ]
  },
  {
   "cell_type": "code",
   "execution_count": 172,
   "id": "15873bc2",
   "metadata": {},
   "outputs": [
    {
     "data": {
      "image/png": "[encoded data removed]",
      "text/plain": [
       "<Figure size 640x480 with 1 Axes>"
      ]
     },
     "metadata": {},
     "output_type": "display_data"
    }
   ],
   "source": [
    "for i, path in enumerate(paths):\n",
    "    a = np.array(path).T\n",
    "    plt.plot(a[0],a[1],label=f'Trip {i}')\n",
    "\n",
    "plt.xlabel('longitude')\n",
    "plt.ylabel('latitude')\n",
    "plt.legend()\n",
    "\n",
    "plt.show()"
   ]
  },
  {
   "cell_type": "code",
   "execution_count": 162,
   "id": "7633f9bd",
   "metadata": {
    "scrolled": false
   },
   "outputs": [
    {
     "data": {
      "text/plain": [
       "[648131,\n",
       " 584632,\n",
       " 584568,\n",
       " 647881,\n",
       " 647942,\n",
       " 584408,\n",
       " 584282,\n",
       " 647981,\n",
       " 617949,\n",
       " 648286]"
      ]
     },
     "execution_count": 162,
     "metadata": {},
     "output_type": "execute_result"
    }
   ],
   "source": [
    "top10idx"
   ]
  },
  {
   "cell_type": "markdown",
   "id": "57d92d3f",
   "metadata": {},
   "source": [
    "## MLP Model"
   ]
  },
  {
   "cell_type": "code",
   "execution_count": 8,
   "id": "7cc2f184",
   "metadata": {},
   "outputs": [],
   "source": [
    "import torch\n",
    "import torch.nn as nn\n",
    "import torchvision\n",
    "import torchvision.transforms as transforms\n",
    "import torch.optim as optim\n",
    "from torch import cuda\n",
    "import gc"
   ]
  },
  {
   "cell_type": "code",
   "execution_count": null,
   "id": "d1a8a202",
   "metadata": {},
   "outputs": [],
   "source": [
    "def clear():\n",
    "    gc.collect()\n",
    "    cuda.empty_cache()"
   ]
  },
  {
   "cell_type": "code",
   "execution_count": null,
   "id": "ae27aa27",
   "metadata": {},
   "outputs": [],
   "source": [
    "device = torch.device(\"cuda\" if torch.cuda.is_available() else \"cpu\")"
   ]
  },
  {
   "cell_type": "code",
   "execution_count": 24,
   "id": "6bda837a",
   "metadata": {
    "scrolled": true
   },
   "outputs": [],
   "source": [
    "mlpfeatures = training.drop(columns = ['TRIP_ID','ORIGIN_CALL'])\n",
    "mlpfeatures = mlpfeatures.sample(frac=1)\n",
    "\n",
    "# for i in mlpfeatures.columns:\n",
    "#     print(i,mlpfeatures[i].nunique())\n",
    "mean, std =  np.mean(mlpfeatures['TRIP_TIME']), np.std(mlpfeatures['TRIP_TIME'])\n",
    "xtrain, ytrain = mlpfeatures.iloc[:mlpfeatures.shape[0]*8//10,:-1], mlpfeatures.iloc[:mlpfeatures.shape[0]*8//10,-1]\n",
    "ytrain = (ytrain-mean)/std\n",
    "xtest, ytest = mlpfeatures.iloc[mlpfeatures.shape[0]*8//10:,:-1], mlpfeatures.iloc[mlpfeatures.shape[0]*8//10:,-1]\n",
    "ytest = (ytest-mean)/std"
   ]
  },
  {
   "cell_type": "code",
   "execution_count": 70,
   "id": "b908cf78",
   "metadata": {},
   "outputs": [],
   "source": [
    "def mlptrans(data):\n",
    "    grphr = Pipeline([('func',FunctionTransformer(lambda x : x//6)),('one-hot',OneHotEncoder(handle_unknown='ignore'))])\n",
    "    pret = ColumnTransformer(transformers = [(\"one-hot\",OneHotEncoder(handle_unknown='ignore'),\n",
    "                                              ['WK','MON','TAXI_ID']), #'YR','DAY','CALL_TYPE','ORIGIN_STAND',\n",
    "                                            ('hourtrans',grphr,['HR']),],\n",
    "                                 remainder = \"drop\")\n",
    "    pret.fit(mlpfeatures.drop(columns = ['TRIP_TIME']))\n",
    "    return pret.transform(data).todense()"
   ]
  },
  {
   "cell_type": "code",
   "execution_count": 71,
   "id": "234060fb",
   "metadata": {},
   "outputs": [],
   "source": [
    "xtrain_mat = mlptrans(xtrain)\n",
    "xtest_mat = mlptrans(xtest)"
   ]
  },
  {
   "cell_type": "code",
   "execution_count": 72,
   "id": "9c7680b1",
   "metadata": {},
   "outputs": [],
   "source": [
    "test_data = torch.tensor(xtest_mat, dtype=torch.float32)#.to(device)\n",
    "test_target = torch.tensor(np.array(ytest), dtype=torch.float32)#.to(device)\n",
    "data = torch.tensor(xtrain_mat, dtype=torch.float32)#.to(device)\n",
    "target = torch.tensor(np.array(ytrain), dtype=torch.float32)#.to(device)"
   ]
  },
  {
   "cell_type": "code",
   "execution_count": 134,
   "id": "47a58242",
   "metadata": {},
   "outputs": [],
   "source": [
    "def train(mdl, epochs, data=data, targets=target):\n",
    "    print(f'training')\n",
    "    \n",
    "    batch_size = 128\n",
    "    \n",
    "    mdl.train()\n",
    "    criterion = nn.MSELoss() #nn.CrossEntropyLoss()\n",
    "    optimizer = optim.Adam(mdl.parameters(), lr = 0.001)\n",
    "    acc = []\n",
    "    losses = []\n",
    "    \n",
    "    for epoch in range(epochs):\n",
    "        \n",
    "        rnls = 0\n",
    "        nbat = 0\n",
    "        \n",
    "        for i in tqdm(range(0, data.shape[0], batch_size)):\n",
    "            inputs = data[i:i+batch_size]\n",
    "            target = targets[i:i+batch_size]\n",
    "            \n",
    "            optimizer.zero_grad()\n",
    "\n",
    "            outputs = mdl(inputs)\n",
    "            \n",
    "            loss = criterion(outputs, target)\n",
    "            \n",
    "            loss.backward()\n",
    "            optimizer.step()\n",
    "            \n",
    "            losses += [loss.item()]\n",
    "            rnls += loss.item()\n",
    "            nbat += 1\n",
    "            \n",
    "        print(f'Completed Epoch {epoch+1}')\n",
    "        print(f'Training Loss: {rnls/nbat}')\n",
    "        print(f'Test Loss : {test(mdl)}')\n",
    "    \n",
    "    return losses\n",
    "    \n",
    "def test(mdl, data=test_data, targets=test_target):\n",
    "    print(f'Testing')\n",
    "    \n",
    "    batch_size = 128\n",
    "    \n",
    "    mdl.eval()\n",
    "    \n",
    "    sqrdloss = 0\n",
    "    with torch.no_grad():\n",
    "        for i in tqdm(range(0, data.shape[0], batch_size)):\n",
    "            inputs = data[i:i+batch_size]\n",
    "            target = targets[i:i+batch_size]\n",
    "            \n",
    "            output = mdl(inputs).squeeze(dim = 1)\n",
    "            sqrdloss += torch.sum((target-output)**2)\n",
    "            \n",
    "    return sqrdloss/data.shape[0]"
   ]
  },
  {
   "cell_type": "code",
   "execution_count": 93,
   "id": "425fc6f0",
   "metadata": {},
   "outputs": [],
   "source": [
    "def createmlp():\n",
    "    return nn.Sequential(\n",
    "        nn.Linear(471, 512),\n",
    "        nn.ReLU(),\n",
    "        nn.Linear(512, 64),\n",
    "        nn.ReLU(),\n",
    "        nn.Linear(64, 1),\n",
    "    )"
   ]
  },
  {
   "cell_type": "code",
   "execution_count": 94,
   "id": "a60b6a65",
   "metadata": {},
   "outputs": [],
   "source": [
    "newmlp = createmlp()"
   ]
  },
  {
   "cell_type": "code",
   "execution_count": 95,
   "id": "e450e4e2",
   "metadata": {
    "scrolled": false
   },
   "outputs": [
    {
     "name": "stdout",
     "output_type": "stream",
     "text": [
      "training\n"
     ]
    },
    {
     "name": "stderr",
     "output_type": "stream",
     "text": [
      "100%|███████████████████████████████████████████████████████████████████████████| 10692/10692 [00:43<00:00, 244.09it/s]\n"
     ]
    },
    {
     "name": "stdout",
     "output_type": "stream",
     "text": [
      "Completed Epoch 1\n",
      "Training Loss: 0.9946831235299051\n",
      "Testing\n"
     ]
    },
    {
     "name": "stderr",
     "output_type": "stream",
     "text": [
      "100%|████████████████████████████████████████████████████████████████████████████| 2673/2673 [00:01<00:00, 2324.33it/s]\n"
     ]
    },
    {
     "name": "stdout",
     "output_type": "stream",
     "text": [
      "Test Loss : 1.0217899084091187\n"
     ]
    },
    {
     "name": "stderr",
     "output_type": "stream",
     "text": [
      "100%|███████████████████████████████████████████████████████████████████████████| 10692/10692 [00:53<00:00, 201.04it/s]\n"
     ]
    },
    {
     "name": "stdout",
     "output_type": "stream",
     "text": [
      "Completed Epoch 2\n",
      "Training Loss: 0.9946555786303064\n",
      "Testing\n"
     ]
    },
    {
     "name": "stderr",
     "output_type": "stream",
     "text": [
      "100%|████████████████████████████████████████████████████████████████████████████| 2673/2673 [00:01<00:00, 2420.25it/s]\n"
     ]
    },
    {
     "name": "stdout",
     "output_type": "stream",
     "text": [
      "Test Loss : 1.0216854810714722\n"
     ]
    },
    {
     "name": "stderr",
     "output_type": "stream",
     "text": [
      "100%|███████████████████████████████████████████████████████████████████████████| 10692/10692 [00:54<00:00, 197.03it/s]\n"
     ]
    },
    {
     "name": "stdout",
     "output_type": "stream",
     "text": [
      "Completed Epoch 3\n",
      "Training Loss: 0.9946535669052552\n",
      "Testing\n"
     ]
    },
    {
     "name": "stderr",
     "output_type": "stream",
     "text": [
      "100%|████████████████████████████████████████████████████████████████████████████| 2673/2673 [00:01<00:00, 2410.62it/s]\n"
     ]
    },
    {
     "name": "stdout",
     "output_type": "stream",
     "text": [
      "Test Loss : 1.0216859579086304\n"
     ]
    },
    {
     "name": "stderr",
     "output_type": "stream",
     "text": [
      "100%|███████████████████████████████████████████████████████████████████████████| 10692/10692 [00:55<00:00, 193.80it/s]\n"
     ]
    },
    {
     "name": "stdout",
     "output_type": "stream",
     "text": [
      "Completed Epoch 4\n",
      "Training Loss: 0.9946527648083043\n",
      "Testing\n"
     ]
    },
    {
     "name": "stderr",
     "output_type": "stream",
     "text": [
      "100%|████████████████████████████████████████████████████████████████████████████| 2673/2673 [00:01<00:00, 2303.71it/s]\n"
     ]
    },
    {
     "name": "stdout",
     "output_type": "stream",
     "text": [
      "Test Loss : 1.0216116905212402\n"
     ]
    },
    {
     "name": "stderr",
     "output_type": "stream",
     "text": [
      "100%|███████████████████████████████████████████████████████████████████████████| 10692/10692 [00:59<00:00, 180.61it/s]\n"
     ]
    },
    {
     "name": "stdout",
     "output_type": "stream",
     "text": [
      "Completed Epoch 5\n",
      "Training Loss: 0.9946522575486388\n",
      "Testing\n"
     ]
    },
    {
     "name": "stderr",
     "output_type": "stream",
     "text": [
      "100%|████████████████████████████████████████████████████████████████████████████| 2673/2673 [00:01<00:00, 2341.24it/s]\n"
     ]
    },
    {
     "name": "stdout",
     "output_type": "stream",
     "text": [
      "Test Loss : 1.0216768980026245\n"
     ]
    },
    {
     "name": "stderr",
     "output_type": "stream",
     "text": [
      "100%|███████████████████████████████████████████████████████████████████████████| 10692/10692 [01:01<00:00, 173.08it/s]\n"
     ]
    },
    {
     "name": "stdout",
     "output_type": "stream",
     "text": [
      "Completed Epoch 6\n",
      "Training Loss: 0.9946516421203684\n",
      "Testing\n"
     ]
    },
    {
     "name": "stderr",
     "output_type": "stream",
     "text": [
      "100%|████████████████████████████████████████████████████████████████████████████| 2673/2673 [00:01<00:00, 2306.77it/s]\n"
     ]
    },
    {
     "name": "stdout",
     "output_type": "stream",
     "text": [
      "Test Loss : 1.0216481685638428\n"
     ]
    },
    {
     "name": "stderr",
     "output_type": "stream",
     "text": [
      "100%|███████████████████████████████████████████████████████████████████████████| 10692/10692 [01:07<00:00, 158.11it/s]\n"
     ]
    },
    {
     "name": "stdout",
     "output_type": "stream",
     "text": [
      "Completed Epoch 7\n",
      "Training Loss: 0.9946507632361674\n",
      "Testing\n"
     ]
    },
    {
     "name": "stderr",
     "output_type": "stream",
     "text": [
      "100%|████████████████████████████████████████████████████████████████████████████| 2673/2673 [00:01<00:00, 2343.62it/s]\n"
     ]
    },
    {
     "name": "stdout",
     "output_type": "stream",
     "text": [
      "Test Loss : 1.0216479301452637\n"
     ]
    },
    {
     "name": "stderr",
     "output_type": "stream",
     "text": [
      "100%|███████████████████████████████████████████████████████████████████████████| 10692/10692 [01:08<00:00, 157.11it/s]\n"
     ]
    },
    {
     "name": "stdout",
     "output_type": "stream",
     "text": [
      "Completed Epoch 8\n",
      "Training Loss: 0.9946501187916066\n",
      "Testing\n"
     ]
    },
    {
     "name": "stderr",
     "output_type": "stream",
     "text": [
      "100%|████████████████████████████████████████████████████████████████████████████| 2673/2673 [00:01<00:00, 2345.43it/s]\n"
     ]
    },
    {
     "name": "stdout",
     "output_type": "stream",
     "text": [
      "Test Loss : 1.0216538906097412\n"
     ]
    },
    {
     "name": "stderr",
     "output_type": "stream",
     "text": [
      "100%|███████████████████████████████████████████████████████████████████████████| 10692/10692 [01:08<00:00, 156.35it/s]\n"
     ]
    },
    {
     "name": "stdout",
     "output_type": "stream",
     "text": [
      "Completed Epoch 9\n",
      "Training Loss: 0.994648070102143\n",
      "Testing\n"
     ]
    },
    {
     "name": "stderr",
     "output_type": "stream",
     "text": [
      "100%|████████████████████████████████████████████████████████████████████████████| 2673/2673 [00:01<00:00, 2354.98it/s]\n"
     ]
    },
    {
     "name": "stdout",
     "output_type": "stream",
     "text": [
      "Test Loss : 1.0217102766036987\n"
     ]
    },
    {
     "name": "stderr",
     "output_type": "stream",
     "text": [
      "100%|███████████████████████████████████████████████████████████████████████████| 10692/10692 [01:08<00:00, 155.33it/s]\n"
     ]
    },
    {
     "name": "stdout",
     "output_type": "stream",
     "text": [
      "Completed Epoch 10\n",
      "Training Loss: 0.9946467435559528\n",
      "Testing\n"
     ]
    },
    {
     "name": "stderr",
     "output_type": "stream",
     "text": [
      "100%|████████████████████████████████████████████████████████████████████████████| 2673/2673 [00:01<00:00, 2389.78it/s]"
     ]
    },
    {
     "name": "stdout",
     "output_type": "stream",
     "text": [
      "Test Loss : 1.0216542482376099\n"
     ]
    },
    {
     "name": "stderr",
     "output_type": "stream",
     "text": [
      "\n"
     ]
    }
   ],
   "source": [
    "train(newmlp, 10)"
   ]
  },
  {
   "cell_type": "code",
   "execution_count": 136,
   "id": "0b82ed4a",
   "metadata": {},
   "outputs": [],
   "source": [
    "def createmlp2():\n",
    "    return nn.Sequential(\n",
    "        nn.Linear(471, 512),\n",
    "        nn.Sigmoid(),\n",
    "        nn.Linear(512, 256),\n",
    "        nn.Sigmoid(),\n",
    "        nn.Linear(256, 128),\n",
    "        nn.Sigmoid(),\n",
    "        nn.Linear(128, 64),\n",
    "        nn.Sigmoid(),\n",
    "        nn.Linear(64, 32),\n",
    "        nn.Sigmoid(),\n",
    "        nn.Linear(32, 1),\n",
    "    )"
   ]
  },
  {
   "cell_type": "code",
   "execution_count": 97,
   "id": "5ef57dce",
   "metadata": {},
   "outputs": [],
   "source": [
    "mlpmdl2 = createmlp2()"
   ]
  },
  {
   "cell_type": "code",
   "execution_count": 98,
   "id": "d42ab7a3",
   "metadata": {
    "scrolled": false
   },
   "outputs": [
    {
     "name": "stdout",
     "output_type": "stream",
     "text": [
      "training\n"
     ]
    },
    {
     "name": "stderr",
     "output_type": "stream",
     "text": [
      "100%|███████████████████████████████████████████████████████████████████████████| 10692/10692 [00:27<00:00, 382.14it/s]\n"
     ]
    },
    {
     "name": "stdout",
     "output_type": "stream",
     "text": [
      "Completed Epoch 1\n",
      "Training Loss: 0.9946455570238162\n",
      "Testing\n"
     ]
    },
    {
     "name": "stderr",
     "output_type": "stream",
     "text": [
      "100%|████████████████████████████████████████████████████████████████████████████| 2673/2673 [00:01<00:00, 2259.60it/s]\n"
     ]
    },
    {
     "name": "stdout",
     "output_type": "stream",
     "text": [
      "Test Loss : 1.0217047929763794\n"
     ]
    },
    {
     "name": "stderr",
     "output_type": "stream",
     "text": [
      "100%|███████████████████████████████████████████████████████████████████████████| 10692/10692 [00:30<00:00, 350.29it/s]\n"
     ]
    },
    {
     "name": "stdout",
     "output_type": "stream",
     "text": [
      "Completed Epoch 2\n",
      "Training Loss: 0.9946439873721218\n",
      "Testing\n"
     ]
    },
    {
     "name": "stderr",
     "output_type": "stream",
     "text": [
      "100%|████████████████████████████████████████████████████████████████████████████| 2673/2673 [00:01<00:00, 2290.72it/s]\n"
     ]
    },
    {
     "name": "stdout",
     "output_type": "stream",
     "text": [
      "Test Loss : 1.0216648578643799\n"
     ]
    },
    {
     "name": "stderr",
     "output_type": "stream",
     "text": [
      "100%|███████████████████████████████████████████████████████████████████████████| 10692/10692 [00:31<00:00, 343.27it/s]\n"
     ]
    },
    {
     "name": "stdout",
     "output_type": "stream",
     "text": [
      "Completed Epoch 3\n",
      "Training Loss: 0.9946436974168761\n",
      "Testing\n"
     ]
    },
    {
     "name": "stderr",
     "output_type": "stream",
     "text": [
      "100%|████████████████████████████████████████████████████████████████████████████| 2673/2673 [00:01<00:00, 2279.77it/s]\n"
     ]
    },
    {
     "name": "stdout",
     "output_type": "stream",
     "text": [
      "Test Loss : 1.0216909646987915\n"
     ]
    },
    {
     "name": "stderr",
     "output_type": "stream",
     "text": [
      "100%|███████████████████████████████████████████████████████████████████████████| 10692/10692 [00:32<00:00, 332.11it/s]\n"
     ]
    },
    {
     "name": "stdout",
     "output_type": "stream",
     "text": [
      "Completed Epoch 4\n",
      "Training Loss: 0.9946429419801269\n",
      "Testing\n"
     ]
    },
    {
     "name": "stderr",
     "output_type": "stream",
     "text": [
      "100%|████████████████████████████████████████████████████████████████████████████| 2673/2673 [00:01<00:00, 2313.70it/s]\n"
     ]
    },
    {
     "name": "stdout",
     "output_type": "stream",
     "text": [
      "Test Loss : 1.0216792821884155\n"
     ]
    },
    {
     "name": "stderr",
     "output_type": "stream",
     "text": [
      "100%|███████████████████████████████████████████████████████████████████████████| 10692/10692 [00:32<00:00, 327.69it/s]\n"
     ]
    },
    {
     "name": "stdout",
     "output_type": "stream",
     "text": [
      "Completed Epoch 5\n",
      "Training Loss: 0.9946417190912196\n",
      "Testing\n"
     ]
    },
    {
     "name": "stderr",
     "output_type": "stream",
     "text": [
      "100%|████████████████████████████████████████████████████████████████████████████| 2673/2673 [00:01<00:00, 2349.02it/s]"
     ]
    },
    {
     "name": "stdout",
     "output_type": "stream",
     "text": [
      "Test Loss : 1.0217034816741943\n"
     ]
    },
    {
     "name": "stderr",
     "output_type": "stream",
     "text": [
      "\n"
     ]
    }
   ],
   "source": [
    "train(newmlp, 5)"
   ]
  },
  {
   "cell_type": "code",
   "execution_count": 99,
   "id": "5e5843a5",
   "metadata": {},
   "outputs": [],
   "source": [
    "true_test = pd.read_csv('data/test_public.csv')"
   ]
  },
  {
   "cell_type": "code",
   "execution_count": 119,
   "id": "815e9d8c",
   "metadata": {},
   "outputs": [],
   "source": [
    "def initialtrans2(data):\n",
    "    getdate = lambda x : [tuple([i.year, i.month, i.day, i.hour, i.weekday()]) for i in [datetime.fromtimestamp(x[\"TIMESTAMP\"])]][0]\n",
    "    data[[\"YR\", \"MON\", \"DAY\", \"HR\", \"WK\"]] = data[[\"TIMESTAMP\"]].apply(getdate, axis=1, result_type=\"expand\")\n",
    "    return data.drop(columns = ['TRIP_ID','TIMESTAMP','ORIGIN_CALL'])"
   ]
  },
  {
   "cell_type": "code",
   "execution_count": 122,
   "id": "d6cad6e6",
   "metadata": {},
   "outputs": [],
   "source": [
    "tt2 = torch.tensor(mlptrans(initialtrans2(true_test)), dtype=torch.float32)"
   ]
  },
  {
   "cell_type": "code",
   "execution_count": null,
   "id": "060344ba",
   "metadata": {},
   "outputs": [],
   "source": [
    "predictions = (mlpmdl2(tt2)*std+mean).detach().numpy() \n",
    "mlpprediction = pd.read_csv(\"data/sampleSubmission.csv\")\n",
    "mlpprediction['TRAVEL_TIME'] = predictions\n",
    "mlpprediction.to_csv(\"mlppred.csv\", index=None)"
   ]
  },
  {
   "cell_type": "markdown",
   "id": "035a351e",
   "metadata": {},
   "source": [
    "scored very bad 792.14825, worse than linear regression"
   ]
  },
  {
   "cell_type": "code",
   "execution_count": 137,
   "id": "ecaca762",
   "metadata": {},
   "outputs": [],
   "source": [
    "mlpmdl3 = createmlp2()"
   ]
  },
  {
   "cell_type": "code",
   "execution_count": 138,
   "id": "a466d592",
   "metadata": {},
   "outputs": [
    {
     "name": "stdout",
     "output_type": "stream",
     "text": [
      "training\n"
     ]
    },
    {
     "name": "stderr",
     "output_type": "stream",
     "text": [
      "100%|███████████████████████████████████████████████████████████████████████████| 10692/10692 [00:49<00:00, 215.49it/s]\n"
     ]
    },
    {
     "name": "stdout",
     "output_type": "stream",
     "text": [
      "Completed Epoch 1\n",
      "Training Loss: 0.9955143120559333\n",
      "Testing\n"
     ]
    },
    {
     "name": "stderr",
     "output_type": "stream",
     "text": [
      "100%|█████████████████████████████████████████████████████████████████████████████| 2673/2673 [00:03<00:00, 739.60it/s]\n"
     ]
    },
    {
     "name": "stdout",
     "output_type": "stream",
     "text": [
      "Test Loss : 1.024229645729065\n"
     ]
    },
    {
     "name": "stderr",
     "output_type": "stream",
     "text": [
      "100%|███████████████████████████████████████████████████████████████████████████| 10692/10692 [00:51<00:00, 208.46it/s]\n"
     ]
    },
    {
     "name": "stdout",
     "output_type": "stream",
     "text": [
      "Completed Epoch 2\n",
      "Training Loss: 0.9949295388745807\n",
      "Testing\n"
     ]
    },
    {
     "name": "stderr",
     "output_type": "stream",
     "text": [
      "100%|█████████████████████████████████████████████████████████████████████████████| 2673/2673 [00:03<00:00, 719.34it/s]"
     ]
    },
    {
     "name": "stdout",
     "output_type": "stream",
     "text": [
      "Test Loss : 1.0220836400985718\n"
     ]
    },
    {
     "name": "stderr",
     "output_type": "stream",
     "text": [
      "\n"
     ]
    }
   ],
   "source": [
    "batchlosses = train(mlpmdl3,2)"
   ]
  },
  {
   "cell_type": "code",
   "execution_count": 143,
   "id": "8131056c",
   "metadata": {},
   "outputs": [
    {
     "data": {
      "text/plain": [
       "[<matplotlib.lines.Line2D at 0x1ebdb236b50>]"
      ]
     },
     "execution_count": 143,
     "metadata": {},
     "output_type": "execute_result"
    },
    {
     "data": {
      "image/png": "[encoded data removed]",
      "text/plain": [
       "<Figure size 640x480 with 1 Axes>"
      ]
     },
     "metadata": {},
     "output_type": "display_data"
    }
   ],
   "source": [
    "plt.plot(batchlosses)"
   ]
  },
  {
   "cell_type": "markdown",
   "id": "1edfc795",
   "metadata": {},
   "source": [
    "## K-nearest neighbors"
   ]
  },
  {
   "cell_type": "code",
   "execution_count": 12,
   "id": "a5d97bda",
   "metadata": {},
   "outputs": [],
   "source": [
    "from sklearn.neighbors import KNeighborsRegressor"
   ]
  },
  {
   "cell_type": "code",
   "execution_count": 9,
   "id": "2fa5c991",
   "metadata": {
    "scrolled": false
   },
   "outputs": [
    {
     "data": {
      "text/html": [
       "<div>\n",
       "<style scoped>\n",
       "    .dataframe tbody tr th:only-of-type {\n",
       "        vertical-align: middle;\n",
       "    }\n",
       "\n",
       "    .dataframe tbody tr th {\n",
       "        vertical-align: top;\n",
       "    }\n",
       "\n",
       "    .dataframe thead th {\n",
       "        text-align: right;\n",
       "    }\n",
       "</style>\n",
       "<table border=\"1\" class=\"dataframe\">\n",
       "  <thead>\n",
       "    <tr style=\"text-align: right;\">\n",
       "      <th></th>\n",
       "      <th>TRIP_ID</th>\n",
       "      <th>CALL_TYPE</th>\n",
       "      <th>ORIGIN_CALL</th>\n",
       "      <th>ORIGIN_STAND</th>\n",
       "      <th>TAXI_ID</th>\n",
       "      <th>DAY_TYPE</th>\n",
       "      <th>MISSING_DATA</th>\n",
       "      <th>YR</th>\n",
       "      <th>MON</th>\n",
       "      <th>DAY</th>\n",
       "      <th>HR</th>\n",
       "      <th>WK</th>\n",
       "      <th>TRIP_TIME</th>\n",
       "    </tr>\n",
       "  </thead>\n",
       "  <tbody>\n",
       "    <tr>\n",
       "      <th>0</th>\n",
       "      <td>1372636858620000589</td>\n",
       "      <td>C</td>\n",
       "      <td>NaN</td>\n",
       "      <td>NaN</td>\n",
       "      <td>20000589</td>\n",
       "      <td>A</td>\n",
       "      <td>False</td>\n",
       "      <td>2013</td>\n",
       "      <td>6</td>\n",
       "      <td>30</td>\n",
       "      <td>17</td>\n",
       "      <td>6</td>\n",
       "      <td>330.0</td>\n",
       "    </tr>\n",
       "    <tr>\n",
       "      <th>1</th>\n",
       "      <td>1372637303620000596</td>\n",
       "      <td>B</td>\n",
       "      <td>NaN</td>\n",
       "      <td>7.0</td>\n",
       "      <td>20000596</td>\n",
       "      <td>A</td>\n",
       "      <td>False</td>\n",
       "      <td>2013</td>\n",
       "      <td>6</td>\n",
       "      <td>30</td>\n",
       "      <td>17</td>\n",
       "      <td>6</td>\n",
       "      <td>270.0</td>\n",
       "    </tr>\n",
       "    <tr>\n",
       "      <th>2</th>\n",
       "      <td>1372636951620000320</td>\n",
       "      <td>C</td>\n",
       "      <td>NaN</td>\n",
       "      <td>NaN</td>\n",
       "      <td>20000320</td>\n",
       "      <td>A</td>\n",
       "      <td>False</td>\n",
       "      <td>2013</td>\n",
       "      <td>6</td>\n",
       "      <td>30</td>\n",
       "      <td>17</td>\n",
       "      <td>6</td>\n",
       "      <td>960.0</td>\n",
       "    </tr>\n",
       "    <tr>\n",
       "      <th>3</th>\n",
       "      <td>1372636854620000520</td>\n",
       "      <td>C</td>\n",
       "      <td>NaN</td>\n",
       "      <td>NaN</td>\n",
       "      <td>20000520</td>\n",
       "      <td>A</td>\n",
       "      <td>False</td>\n",
       "      <td>2013</td>\n",
       "      <td>6</td>\n",
       "      <td>30</td>\n",
       "      <td>17</td>\n",
       "      <td>6</td>\n",
       "      <td>630.0</td>\n",
       "    </tr>\n",
       "    <tr>\n",
       "      <th>4</th>\n",
       "      <td>1372637091620000337</td>\n",
       "      <td>C</td>\n",
       "      <td>NaN</td>\n",
       "      <td>NaN</td>\n",
       "      <td>20000337</td>\n",
       "      <td>A</td>\n",
       "      <td>False</td>\n",
       "      <td>2013</td>\n",
       "      <td>6</td>\n",
       "      <td>30</td>\n",
       "      <td>17</td>\n",
       "      <td>6</td>\n",
       "      <td>420.0</td>\n",
       "    </tr>\n",
       "    <tr>\n",
       "      <th>...</th>\n",
       "      <td>...</td>\n",
       "      <td>...</td>\n",
       "      <td>...</td>\n",
       "      <td>...</td>\n",
       "      <td>...</td>\n",
       "      <td>...</td>\n",
       "      <td>...</td>\n",
       "      <td>...</td>\n",
       "      <td>...</td>\n",
       "      <td>...</td>\n",
       "      <td>...</td>\n",
       "      <td>...</td>\n",
       "      <td>...</td>\n",
       "    </tr>\n",
       "    <tr>\n",
       "      <th>1710665</th>\n",
       "      <td>1404171463620000698</td>\n",
       "      <td>C</td>\n",
       "      <td>NaN</td>\n",
       "      <td>NaN</td>\n",
       "      <td>20000698</td>\n",
       "      <td>A</td>\n",
       "      <td>False</td>\n",
       "      <td>2014</td>\n",
       "      <td>6</td>\n",
       "      <td>30</td>\n",
       "      <td>16</td>\n",
       "      <td>0</td>\n",
       "      <td>465.0</td>\n",
       "    </tr>\n",
       "    <tr>\n",
       "      <th>1710666</th>\n",
       "      <td>1404171367620000670</td>\n",
       "      <td>C</td>\n",
       "      <td>NaN</td>\n",
       "      <td>NaN</td>\n",
       "      <td>20000670</td>\n",
       "      <td>A</td>\n",
       "      <td>False</td>\n",
       "      <td>2014</td>\n",
       "      <td>6</td>\n",
       "      <td>30</td>\n",
       "      <td>16</td>\n",
       "      <td>0</td>\n",
       "      <td>435.0</td>\n",
       "    </tr>\n",
       "    <tr>\n",
       "      <th>1710667</th>\n",
       "      <td>1388745716620000264</td>\n",
       "      <td>C</td>\n",
       "      <td>NaN</td>\n",
       "      <td>NaN</td>\n",
       "      <td>20000264</td>\n",
       "      <td>A</td>\n",
       "      <td>False</td>\n",
       "      <td>2014</td>\n",
       "      <td>1</td>\n",
       "      <td>3</td>\n",
       "      <td>2</td>\n",
       "      <td>4</td>\n",
       "      <td>0.0</td>\n",
       "    </tr>\n",
       "    <tr>\n",
       "      <th>1710668</th>\n",
       "      <td>1404141826620000248</td>\n",
       "      <td>B</td>\n",
       "      <td>NaN</td>\n",
       "      <td>12.0</td>\n",
       "      <td>20000248</td>\n",
       "      <td>A</td>\n",
       "      <td>False</td>\n",
       "      <td>2014</td>\n",
       "      <td>6</td>\n",
       "      <td>30</td>\n",
       "      <td>8</td>\n",
       "      <td>0</td>\n",
       "      <td>915.0</td>\n",
       "    </tr>\n",
       "    <tr>\n",
       "      <th>1710669</th>\n",
       "      <td>1404157147620000079</td>\n",
       "      <td>B</td>\n",
       "      <td>NaN</td>\n",
       "      <td>34.0</td>\n",
       "      <td>20000079</td>\n",
       "      <td>A</td>\n",
       "      <td>False</td>\n",
       "      <td>2014</td>\n",
       "      <td>6</td>\n",
       "      <td>30</td>\n",
       "      <td>12</td>\n",
       "      <td>0</td>\n",
       "      <td>390.0</td>\n",
       "    </tr>\n",
       "  </tbody>\n",
       "</table>\n",
       "<p>1710660 rows × 13 columns</p>\n",
       "</div>"
      ],
      "text/plain": [
       "                     TRIP_ID CALL_TYPE  ORIGIN_CALL  ORIGIN_STAND   TAXI_ID  \\\n",
       "0        1372636858620000589         C          NaN           NaN  20000589   \n",
       "1        1372637303620000596         B          NaN           7.0  20000596   \n",
       "2        1372636951620000320         C          NaN           NaN  20000320   \n",
       "3        1372636854620000520         C          NaN           NaN  20000520   \n",
       "4        1372637091620000337         C          NaN           NaN  20000337   \n",
       "...                      ...       ...          ...           ...       ...   \n",
       "1710665  1404171463620000698         C          NaN           NaN  20000698   \n",
       "1710666  1404171367620000670         C          NaN           NaN  20000670   \n",
       "1710667  1388745716620000264         C          NaN           NaN  20000264   \n",
       "1710668  1404141826620000248         B          NaN          12.0  20000248   \n",
       "1710669  1404157147620000079         B          NaN          34.0  20000079   \n",
       "\n",
       "        DAY_TYPE  MISSING_DATA    YR  MON  DAY  HR  WK  TRIP_TIME  \n",
       "0              A         False  2013    6   30  17   6      330.0  \n",
       "1              A         False  2013    6   30  17   6      270.0  \n",
       "2              A         False  2013    6   30  17   6      960.0  \n",
       "3              A         False  2013    6   30  17   6      630.0  \n",
       "4              A         False  2013    6   30  17   6      420.0  \n",
       "...          ...           ...   ...  ...  ...  ..  ..        ...  \n",
       "1710665        A         False  2014    6   30  16   0      465.0  \n",
       "1710666        A         False  2014    6   30  16   0      435.0  \n",
       "1710667        A         False  2014    1    3   2   4        0.0  \n",
       "1710668        A         False  2014    6   30   8   0      915.0  \n",
       "1710669        A         False  2014    6   30  12   0      390.0  \n",
       "\n",
       "[1710660 rows x 13 columns]"
      ]
     },
     "execution_count": 9,
     "metadata": {},
     "output_type": "execute_result"
    }
   ],
   "source": [
    "training"
   ]
  },
  {
   "cell_type": "code",
   "execution_count": null,
   "id": "685f17d5",
   "metadata": {},
   "outputs": [],
   "source": []
  },
  {
   "cell_type": "code",
   "execution_count": 8,
   "id": "438f5609",
   "metadata": {},
   "outputs": [],
   "source": [
    "def knntrans(data, test=pd.DataFrame(), w = [5,3,2.5,7,10,5]):\n",
    "    data = pd.concat([data,test])\n",
    "    data = data.drop(columns = ['TRIP_ID','DAY_TYPE','MISSING_DATA','DAY','YR'])\n",
    "    \n",
    "    ones = pd.get_dummies(data['CALL_TYPE'])*w[0]\n",
    "    ones = ones.join(pd.get_dummies(data['ORIGIN_STAND'])*w[1])\n",
    "    ones = ones.join(pd.get_dummies(data['TAXI_ID'])*w[2])\n",
    "    ones = ones.join(pd.get_dummies(((pd.get_dummies(data['WK'])*w[3])).rename(columns = {0:'d0',1:'d1',2:'d2',3:'d3',4:'d4',5:'d5',6:'d6'})))\n",
    "    ones['MON'] = np.abs(data['MON']-6)/6*w[4]\n",
    "    ones['HR'] = np.abs(data['HR']-12)/12*w[5]\n",
    "    \n",
    "    return ones.iloc[:-test.shape[0],:],ones.iloc[-test.shape[0]:,:]#.to_numpy()\n",
    "    "
   ]
  },
  {
   "cell_type": "code",
   "execution_count": 9,
   "id": "3e349b74",
   "metadata": {
    "scrolled": true
   },
   "outputs": [],
   "source": [
    "#knnperm = training.sample(frac=1)\n",
    "\n",
    "xtrain, ytrain = knnperm.iloc[:knnperm.shape[0]*8//10,:-1], knnperm.iloc[:knnperm.shape[0]*8//10,-1]\n",
    "xtest, ytest = knnperm.iloc[knnperm.shape[0]*8//10:,:-1], knnperm.iloc[knnperm.shape[0]*8//10:,-1]"
   ]
  },
  {
   "cell_type": "code",
   "execution_count": 10,
   "id": "e8e6fb38",
   "metadata": {
    "scrolled": true
   },
   "outputs": [],
   "source": [
    "knnxtrain,knnxtest = knntrans(xtrain,xtest)"
   ]
  },
  {
   "cell_type": "code",
   "execution_count": 29,
   "id": "229a6ddd",
   "metadata": {},
   "outputs": [
    {
     "data": {
      "text/plain": [
       "KNeighborsRegressor(algorithm='brute', n_neighbors=15, weights='distance')"
      ]
     },
     "execution_count": 29,
     "metadata": {},
     "output_type": "execute_result"
    }
   ],
   "source": [
    "knn = KNeighborsRegressor(n_neighbors=15, algorithm = 'brute', p = 2, weights= 'distance')\n",
    "knn.fit(knnxtrain, np.array(ytrain))"
   ]
  },
  {
   "cell_type": "code",
   "execution_count": 30,
   "id": "b9102e54",
   "metadata": {},
   "outputs": [
    {
     "name": "stdout",
     "output_type": "stream",
     "text": [
      "1245.0 [157.50069031] [1087.49930969]\n",
      "240.0 [630.] [390.]\n",
      "825.0 [493.70769678] [331.29230322]\n",
      "780.0 [898.0386625] [118.0386625]\n",
      "2460.0 [800.] [1660.]\n",
      "240.0 [923.08099147] [683.08099147]\n",
      "75.0 [685.] [610.]\n",
      "555.0 [515.] [40.]\n",
      "330.0 [270.] [60.]\n",
      "1020.0 [723.75] [296.25]\n",
      "690.0 [681.59024222] [8.40975778]\n",
      "360.0 [528.90313586] [168.90313586]\n",
      "690.0 [309.] [381.]\n",
      "1200.0 [345.] [855.]\n",
      "630.0 [751.41470529] [121.41470529]\n",
      "345.0 [607.52882737] [262.52882737]\n",
      "390.0 [2617.5] [2227.5]\n",
      "195.0 [630.] [435.]\n",
      "765.0 [802.5] [37.5]\n",
      "825.0 [690.] [135.]\n",
      "735.0 [545.02579904] [189.97420096]\n",
      "660.0 [420.] [240.]\n",
      "450.0 [442.5] [7.5]\n",
      "390.0 [1635.] [1245.]\n",
      "825.0 [860.75440955] [35.75440955]\n",
      "300.0 [1104.54545455] [804.54545455]\n",
      "870.0 [701.] [169.]\n",
      "540.0 [421.13207547] [118.86792453]\n",
      "150.0 [645.00012884] [495.00012884]\n",
      "555.0 [499.25684927] [55.74315073]\n",
      "330.0 [680.75505303] [350.75505303]\n",
      "3420.0 [405.] [3015.]\n",
      "1185.0 [420.] [765.]\n",
      "150.0 [465.] [315.]\n",
      "1365.0 [753.75] [611.25]\n",
      "570.0 [551.58917222] [18.41082778]\n",
      "495.0 [1185.] [690.]\n",
      "900.0 [437.20945587] [462.79054413]\n",
      "1155.0 [827.14285714] [327.85714286]\n",
      "675.0 [620.] [55.]\n",
      "1020.0 [692.72727273] [327.27272727]\n",
      "165.0 [622.5] [457.5]\n",
      "1620.0 [765.] [855.]\n",
      "1095.0 [712.5] [382.5]\n",
      "495.0 [787.5] [292.5]\n",
      "330.0 [460.] [130.]\n",
      "780.0 [630.] [150.]\n",
      "1140.0 [681.] [459.]\n",
      "510.0 [550.58656912] [40.58656912]\n",
      "660.0 [915.] [255.]\n"
     ]
    }
   ],
   "source": [
    "bs = []\n",
    "c=0\n",
    "for i in range(c,c+50):\n",
    "    a,b = ytrain.iloc[i],knn.predict([knnxtest.iloc[i]])\n",
    "    bs += [b[0]]\n",
    "    print(a,b,abs(a-b))"
   ]
  },
  {
   "cell_type": "code",
   "execution_count": 31,
   "id": "3a690c3d",
   "metadata": {},
   "outputs": [
    {
     "data": {
      "text/plain": [
       "464.6045165303216"
      ]
     },
     "execution_count": 31,
     "metadata": {},
     "output_type": "execute_result"
    }
   ],
   "source": [
    "np.mean([abs(bs[i]-ytrain.iloc[i]) for i in range(50)])"
   ]
  },
  {
   "cell_type": "code",
   "execution_count": 32,
   "id": "88d92038",
   "metadata": {},
   "outputs": [
    {
     "data": {
      "text/plain": [
       "375.86"
      ]
     },
     "execution_count": 32,
     "metadata": {},
     "output_type": "execute_result"
    }
   ],
   "source": [
    "np.mean([abs(716-ytrain.iloc[i]) for i in range(50)])"
   ]
  },
  {
   "cell_type": "code",
   "execution_count": null,
   "id": "7eb12313",
   "metadata": {},
   "outputs": [],
   "source": []
  },
  {
   "cell_type": "code",
   "execution_count": null,
   "id": "b4159da3",
   "metadata": {},
   "outputs": [],
   "source": []
  }
 ],
 "metadata": {
  "kernelspec": {
   "display_name": "Python 3 (ipykernel)",
   "language": "python",
   "name": "python3"
  },
  "language_info": {
   "codemirror_mode": {
    "name": "ipython",
    "version": 3
   },
   "file_extension": ".py",
   "mimetype": "text/x-python",
   "name": "python",
   "nbconvert_exporter": "python",
   "pygments_lexer": "ipython3",
   "version": "3.9.7"
  }
 },
 "nbformat": 4,
 "nbformat_minor": 5
}
