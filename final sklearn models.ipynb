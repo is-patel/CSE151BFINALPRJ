{
 "cells": [
  {
   "cell_type": "code",
   "execution_count": 1,
   "id": "af20df35",
   "metadata": {},
   "outputs": [],
   "source": [
    "import numpy as np\n",
    "import pandas as pd\n",
    "import matplotlib.pyplot as plt\n",
    "from datetime import datetime"
   ]
  },
  {
   "cell_type": "code",
   "execution_count": 2,
   "id": "80a2cd99",
   "metadata": {},
   "outputs": [],
   "source": [
    "from sklearn.preprocessing import StandardScaler\n",
    "from sklearn.metrics import mean_squared_error as mse\n",
    "from sklearn.ensemble import RandomForestRegressor, GradientBoostingRegressor"
   ]
  },
  {
   "cell_type": "code",
   "execution_count": 3,
   "id": "3efa3081",
   "metadata": {},
   "outputs": [],
   "source": [
    "data = pd.read_csv(\"data/train.csv\")"
   ]
  },
  {
   "cell_type": "code",
   "execution_count": 4,
   "id": "ddc15181",
   "metadata": {
    "scrolled": true
   },
   "outputs": [
    {
     "name": "stderr",
     "output_type": "stream",
     "text": [
      "C:\\Users\\ishpa\\AppData\\Local\\Programs\\Python\\Python39\\lib\\site-packages\\pandas\\core\\frame.py:3641: SettingWithCopyWarning: \n",
      "A value is trying to be set on a copy of a slice from a DataFrame.\n",
      "Try using .loc[row_indexer,col_indexer] = value instead\n",
      "\n",
      "See the caveats in the documentation: https://pandas.pydata.org/pandas-docs/stable/user_guide/indexing.html#returning-a-view-versus-a-copy\n",
      "  self[k1] = value[k2]\n"
     ]
    }
   ],
   "source": [
    "training = data[~data['MISSING_DATA']]\n",
    "\n",
    "# adding date time, modified from given feature engineering notebook\n",
    "getdate = lambda x : [tuple([i.year, i.month, i.day, i.hour, i.weekday()]) for i in [datetime.fromtimestamp(x[\"TIMESTAMP\"])]][0]\n",
    "training[[\"YR\", \"MON\", \"DAY\", \"HR\", \"WK\"]] = training[[\"TIMESTAMP\"]].apply(getdate, axis=1, result_type=\"expand\")\n",
    "training = training.drop(columns = ['TIMESTAMP'])\n",
    "\n",
    "# adding trip time, using the given 15 second formula on polyline\n",
    "training['TRIP_TIME'] = training['POLYLINE'].apply(lambda x : max(x.count(\".\")/2-1,0)*15)\n",
    "training = training.drop(columns = ['POLYLINE'])"
   ]
  },
  {
   "cell_type": "code",
   "execution_count": 10,
   "id": "ee32a403",
   "metadata": {},
   "outputs": [],
   "source": [
    "og = training"
   ]
  },
  {
   "cell_type": "code",
   "execution_count": 40,
   "id": "9e66448b",
   "metadata": {},
   "outputs": [],
   "source": [
    "ogs = og.sample(frac = 1)\n",
    "training, testing = ogs[:ogs.shape[0]*8//10], ogs[ogs.shape[0]*8//10:]"
   ]
  },
  {
   "cell_type": "code",
   "execution_count": 41,
   "id": "233eb7ca",
   "metadata": {},
   "outputs": [],
   "source": [
    "def ohetrans(data, test=pd.DataFrame(), w = [1,1,1,1,1]):\n",
    "    data = pd.concat([data,test])\n",
    "    data = data.drop(columns = ['TRIP_ID','DAY_TYPE','MISSING_DATA','YR'])\n",
    "    \n",
    "    ones = pd.get_dummies(data['CALL_TYPE'])*w[0]\n",
    "    ones = ones.join(pd.get_dummies(data['ORIGIN_STAND'])*w[1])\n",
    "    ones = ones.join(pd.get_dummies(data['TAXI_ID'])*w[2])\n",
    "        \n",
    "#    ones = ones.join(pd.get_dummies(((pd.get_dummies(data['DAY'])*w[4])).rename(columns = {i:f'd{i}' for i in range(31)})))\n",
    "#    ones = ones.join(pd.get_dummies(((pd.get_dummies(data['WK'])*w[3])).rename(columns = {0:'d0',1:'d1',2:'d2',3:'d3',4:'d4',5:'d5',6:'d6'})))\n",
    "\n",
    "#    ones = ones.join(pd.get_dummies(((pd.get_dummies(data['MON'])*w[4])).rename(columns = {i:f'm{i}' for i in range(12)})))\n",
    "#    ones['MON'] = np.abs(data['MON']-6)/6*w[4]\n",
    "\n",
    "    ones = ones.join(pd.get_dummies(((pd.get_dummies(data['HR'])*w[3])).rename(columns = {i:f'h{i}' for i in range(24)})))\n",
    "#    ones['HR'] = np.abs(data['HR']-12)/12*w[5]\n",
    "\n",
    "    ones = ones.join((pd.get_dummies(data['date'])*w[4]).rename(columns = {i:f'date{i}' for i in range(5)}))\n",
    "    return ones.iloc[:-test.shape[0],:],ones.iloc[-test.shape[0]:,:]#.to_numpy()\n",
    "    "
   ]
  },
  {
   "cell_type": "code",
   "execution_count": 42,
   "id": "78eb8eec",
   "metadata": {},
   "outputs": [],
   "source": [
    "days = [(8,14),(9,30),(10,6),(10,31),(12,21)]\n",
    "\n",
    "narrows = [training[(training['MON'] == i[0])&(training['DAY']==i[1])].drop(columns = ['MON','DAY']).assign(date=j) for j,i in enumerate(days)]\n",
    "tnarrows = [testing[(testing['MON'] == i[0])&(testing['DAY']==i[1])].drop(columns = ['MON','DAY']).assign(date=j) for j,i in enumerate(days)]\n",
    "\n",
    "narrowed = pd.concat(narrows)\n",
    "tnarrowed = pd.concat(tnarrows)\n",
    "anarrowed = pd.concat([narrowed,tnarrowed])"
   ]
  },
  {
   "cell_type": "code",
   "execution_count": null,
   "id": "c801a2f6",
   "metadata": {},
   "outputs": [],
   "source": []
  },
  {
   "cell_type": "code",
   "execution_count": 43,
   "id": "d044f31d",
   "metadata": {},
   "outputs": [],
   "source": [
    "Xtrain, Xtest = ohetrans(narrowed,tnarrowed)\n",
    "Ytrain = narrowed['TRIP_TIME']\n",
    "Ytest = tnarrowed['TRIP_TIME']"
   ]
  },
  {
   "cell_type": "code",
   "execution_count": 44,
   "id": "42e64b0a",
   "metadata": {},
   "outputs": [],
   "source": [
    "gbparameters = {\n",
    "    'loss' : 'huber',\n",
    "    'learning_rate' : 0.01,\n",
    "    'n_estimators' : 500,\n",
    "    'subsample' : 0.5, # (0,1]\n",
    "    'criterion' : 'friedman_mse',\n",
    "    'min_samples_split' : 10, # int [2,inf), float (0,1]\n",
    "    'min_samples_leaf' : 5, # same as above, except can be 1\n",
    "    'min_weight_fraction_leaf' : 0, # [0,0.5]\n",
    "    'max_depth' : 5, # int or None\n",
    "    'min_impurity_decrease' : 0.0, # float up to inf\n",
    "    'random_state' : None, # seeding\n",
    "    'max_features' : 3, # number of features for split\n",
    "    'alpha' : 0.1,\n",
    "    'verbose' : 1,\n",
    "    'max_leaf_nodes' : None, # [2,inf)\n",
    "    'warm_start' : False, # dont use\n",
    "    'validation_fraction' : 0.1, # proportion for validation for early stopping\n",
    "    'n_iter_no_change' : None, # look above\n",
    "    'tol' : 1e-4, # look above\n",
    "    'ccp_alpha' : 0.0 # something about pruning\n",
    "}"
   ]
  },
  {
   "cell_type": "code",
   "execution_count": null,
   "id": "18381f53",
   "metadata": {},
   "outputs": [],
   "source": []
  },
  {
   "cell_type": "code",
   "execution_count": 45,
   "id": "94424bf0",
   "metadata": {},
   "outputs": [],
   "source": [
    "gbrmdl = GradientBoostingRegressor(**gbparameters)"
   ]
  },
  {
   "cell_type": "code",
   "execution_count": 46,
   "id": "ba54ace3",
   "metadata": {},
   "outputs": [
    {
     "name": "stdout",
     "output_type": "stream",
     "text": [
      "      Iter       Train Loss      OOB Improve   Remaining Time \n",
      "         1       14254.7245           0.4976            3.77s\n",
      "         2       14207.3264          44.2947            3.51s\n",
      "         3       14195.6362         -39.9501            3.32s\n",
      "         4       14218.0751          37.0077            3.43s\n",
      "         5       14064.0204          50.0041            3.38s\n",
      "         6       14462.5664         -34.8448            3.39s\n",
      "         7       14060.3383         -20.1160            3.36s\n",
      "         8       13926.8121          41.6659            3.34s\n",
      "         9       14084.6612          15.8330            3.34s\n",
      "        10       14130.4650          17.4903            3.32s\n",
      "        20       14149.0129          36.6762            3.25s\n",
      "        30       14039.1027          31.3630            3.18s\n",
      "        40       14389.3304          34.8300            3.16s\n",
      "        50       13840.0016         -56.4526            3.08s\n",
      "        60       13931.9335           0.0489            3.01s\n",
      "        70       14230.9615           0.8479            2.96s\n",
      "        80       13642.1445           7.9021            2.90s\n",
      "        90       13680.3609          -2.1277            2.84s\n",
      "       100       13804.8443           0.3788            2.76s\n",
      "       200       13802.1847           5.2454            2.09s\n",
      "       300       13605.1180          -7.7874            1.42s\n",
      "       400       13669.5626           2.8443            0.72s\n",
      "       500       13613.1848          27.2529            0.00s\n"
     ]
    },
    {
     "data": {
      "text/plain": [
       "GradientBoostingRegressor(alpha=0.1, learning_rate=0.01, loss='huber',\n",
       "                          max_depth=5, max_features=3, min_samples_leaf=5,\n",
       "                          min_samples_split=10, min_weight_fraction_leaf=0,\n",
       "                          n_estimators=500, subsample=0.5, verbose=1)"
      ]
     },
     "execution_count": 46,
     "metadata": {},
     "output_type": "execute_result"
    }
   ],
   "source": [
    "gbrmdl.fit(Xtrain,Ytrain)"
   ]
  },
  {
   "cell_type": "code",
   "execution_count": 47,
   "id": "8403a826",
   "metadata": {},
   "outputs": [
    {
     "data": {
      "text/plain": [
       "601.0632116855039"
      ]
     },
     "execution_count": 47,
     "metadata": {},
     "output_type": "execute_result"
    }
   ],
   "source": [
    "np.sqrt(np.sum((gbrmdl.predict(Xtest)-Ytest)**2)/Xtest.shape[0])"
   ]
  },
  {
   "cell_type": "code",
   "execution_count": null,
   "id": "0e42c39a",
   "metadata": {},
   "outputs": [],
   "source": []
  },
  {
   "cell_type": "code",
   "execution_count": 8,
   "id": "a30971ba",
   "metadata": {},
   "outputs": [],
   "source": [
    "points = [14199.2390,14027.1045,14318.7396,14175.4570,14245.3705,14029.5471,14418.6014,14507.2483,14049.6226,14299.4548,14376.9247,13893.6353,13968.2603,14155.9717,13925.1476,13764.0407,13827.9374,13776.3519,13985.6360,13468.9091,13201.9891,13496.8218,13308.1267]\n",
    "iteration = [1,2,3,4,5,6,7,8,9,10,20,30,40,50,60,70,80,90,100,200,300,400,500]"
   ]
  },
  {
   "cell_type": "code",
   "execution_count": 11,
   "id": "0838f91b",
   "metadata": {},
   "outputs": [
    {
     "data": {
      "text/plain": [
       "Text(0, 0.5, 'Loss')"
      ]
     },
     "execution_count": 11,
     "metadata": {},
     "output_type": "execute_result"
    },
    {
     "data": {
      "image/png": "[encoded data removed]",
      "text/plain": [
       "<Figure size 640x480 with 1 Axes>"
      ]
     },
     "metadata": {},
     "output_type": "display_data"
    }
   ],
   "source": [
    "plt.plot(iteration, points)\n",
    "plt.xlabel('Iteration')\n",
    "plt.ylabel('Loss')"
   ]
  },
  {
   "cell_type": "code",
   "execution_count": null,
   "id": "53f9ec1e",
   "metadata": {},
   "outputs": [],
   "source": []
  }
 ],
 "metadata": {
  "kernelspec": {
   "display_name": "Python 3 (ipykernel)",
   "language": "python",
   "name": "python3"
  },
  "language_info": {
   "codemirror_mode": {
    "name": "ipython",
    "version": 3
   },
   "file_extension": ".py",
   "mimetype": "text/x-python",
   "name": "python",
   "nbconvert_exporter": "python",
   "pygments_lexer": "ipython3",
   "version": "3.9.7"
  }
 },
 "nbformat": 4,
 "nbformat_minor": 5
}
